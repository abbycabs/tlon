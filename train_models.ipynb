{
  "nbformat": 4,
  "nbformat_minor": 0,
  "metadata": {
    "colab": {
      "name": "train_models.ipynb",
      "provenance": [],
      "collapsed_sections": [],
      "toc_visible": true,
      "include_colab_link": true
    },
    "kernelspec": {
      "name": "python3",
      "display_name": "Python 3"
    },
    "accelerator": "GPU",
    "widgets": {
      "application/vnd.jupyter.widget-state+json": {
        "9dd307b3add9472192b1db15cd3ec21d": {
          "model_module": "@jupyter-widgets/controls",
          "model_name": "HBoxModel",
          "state": {
            "_view_name": "HBoxView",
            "_dom_classes": [],
            "_model_name": "HBoxModel",
            "_view_module": "@jupyter-widgets/controls",
            "_model_module_version": "1.5.0",
            "_view_count": null,
            "_view_module_version": "1.5.0",
            "box_style": "",
            "layout": "IPY_MODEL_0ca36e1b7f294a61aa72707949ddef93",
            "_model_module": "@jupyter-widgets/controls",
            "children": [
              "IPY_MODEL_7a85098dcfff48138a9a107a35c1af42",
              "IPY_MODEL_e2726d8b8a7d40dba9e2e8cddfd6b5de"
            ]
          }
        },
        "0ca36e1b7f294a61aa72707949ddef93": {
          "model_module": "@jupyter-widgets/base",
          "model_name": "LayoutModel",
          "state": {
            "_view_name": "LayoutView",
            "grid_template_rows": null,
            "right": null,
            "justify_content": null,
            "_view_module": "@jupyter-widgets/base",
            "overflow": null,
            "_model_module_version": "1.2.0",
            "_view_count": null,
            "flex_flow": null,
            "width": null,
            "min_width": null,
            "border": null,
            "align_items": null,
            "bottom": null,
            "_model_module": "@jupyter-widgets/base",
            "top": null,
            "grid_column": null,
            "overflow_y": null,
            "overflow_x": null,
            "grid_auto_flow": null,
            "grid_area": null,
            "grid_template_columns": null,
            "flex": null,
            "_model_name": "LayoutModel",
            "justify_items": null,
            "grid_row": null,
            "max_height": null,
            "align_content": null,
            "visibility": null,
            "align_self": null,
            "height": null,
            "min_height": null,
            "padding": null,
            "grid_auto_rows": null,
            "grid_gap": null,
            "max_width": null,
            "order": null,
            "_view_module_version": "1.2.0",
            "grid_template_areas": null,
            "object_position": null,
            "object_fit": null,
            "grid_auto_columns": null,
            "margin": null,
            "display": null,
            "left": null
          }
        },
        "7a85098dcfff48138a9a107a35c1af42": {
          "model_module": "@jupyter-widgets/controls",
          "model_name": "IntProgressModel",
          "state": {
            "_view_name": "ProgressView",
            "style": "IPY_MODEL_8e3db93b029946db8e14dadce093f10c",
            "_dom_classes": [],
            "description": "",
            "_model_name": "IntProgressModel",
            "bar_style": "success",
            "max": 1,
            "_view_module": "@jupyter-widgets/controls",
            "_model_module_version": "1.5.0",
            "value": 1,
            "_view_count": null,
            "_view_module_version": "1.5.0",
            "orientation": "horizontal",
            "min": 0,
            "description_tooltip": null,
            "_model_module": "@jupyter-widgets/controls",
            "layout": "IPY_MODEL_13b8a70c7b284f1aa7527adca684fa6a"
          }
        },
        "e2726d8b8a7d40dba9e2e8cddfd6b5de": {
          "model_module": "@jupyter-widgets/controls",
          "model_name": "HTMLModel",
          "state": {
            "_view_name": "HTMLView",
            "style": "IPY_MODEL_b2c925bffbe34bc3917f5939767ea644",
            "_dom_classes": [],
            "description": "",
            "_model_name": "HTMLModel",
            "placeholder": "​",
            "_view_module": "@jupyter-widgets/controls",
            "_model_module_version": "1.5.0",
            "value": "9920512it [00:01, 8402943.09it/s]",
            "_view_count": null,
            "_view_module_version": "1.5.0",
            "description_tooltip": null,
            "_model_module": "@jupyter-widgets/controls",
            "layout": "IPY_MODEL_7d3f18eb2f4346088e39e549b5346b77"
          }
        },
        "8e3db93b029946db8e14dadce093f10c": {
          "model_module": "@jupyter-widgets/controls",
          "model_name": "ProgressStyleModel",
          "state": {
            "_view_name": "StyleView",
            "_model_name": "ProgressStyleModel",
            "description_width": "",
            "_view_module": "@jupyter-widgets/base",
            "_model_module_version": "1.5.0",
            "_view_count": null,
            "_view_module_version": "1.2.0",
            "bar_color": null,
            "_model_module": "@jupyter-widgets/controls"
          }
        },
        "13b8a70c7b284f1aa7527adca684fa6a": {
          "model_module": "@jupyter-widgets/base",
          "model_name": "LayoutModel",
          "state": {
            "_view_name": "LayoutView",
            "grid_template_rows": null,
            "right": null,
            "justify_content": null,
            "_view_module": "@jupyter-widgets/base",
            "overflow": null,
            "_model_module_version": "1.2.0",
            "_view_count": null,
            "flex_flow": null,
            "width": null,
            "min_width": null,
            "border": null,
            "align_items": null,
            "bottom": null,
            "_model_module": "@jupyter-widgets/base",
            "top": null,
            "grid_column": null,
            "overflow_y": null,
            "overflow_x": null,
            "grid_auto_flow": null,
            "grid_area": null,
            "grid_template_columns": null,
            "flex": null,
            "_model_name": "LayoutModel",
            "justify_items": null,
            "grid_row": null,
            "max_height": null,
            "align_content": null,
            "visibility": null,
            "align_self": null,
            "height": null,
            "min_height": null,
            "padding": null,
            "grid_auto_rows": null,
            "grid_gap": null,
            "max_width": null,
            "order": null,
            "_view_module_version": "1.2.0",
            "grid_template_areas": null,
            "object_position": null,
            "object_fit": null,
            "grid_auto_columns": null,
            "margin": null,
            "display": null,
            "left": null
          }
        },
        "b2c925bffbe34bc3917f5939767ea644": {
          "model_module": "@jupyter-widgets/controls",
          "model_name": "DescriptionStyleModel",
          "state": {
            "_view_name": "StyleView",
            "_model_name": "DescriptionStyleModel",
            "description_width": "",
            "_view_module": "@jupyter-widgets/base",
            "_model_module_version": "1.5.0",
            "_view_count": null,
            "_view_module_version": "1.2.0",
            "_model_module": "@jupyter-widgets/controls"
          }
        },
        "7d3f18eb2f4346088e39e549b5346b77": {
          "model_module": "@jupyter-widgets/base",
          "model_name": "LayoutModel",
          "state": {
            "_view_name": "LayoutView",
            "grid_template_rows": null,
            "right": null,
            "justify_content": null,
            "_view_module": "@jupyter-widgets/base",
            "overflow": null,
            "_model_module_version": "1.2.0",
            "_view_count": null,
            "flex_flow": null,
            "width": null,
            "min_width": null,
            "border": null,
            "align_items": null,
            "bottom": null,
            "_model_module": "@jupyter-widgets/base",
            "top": null,
            "grid_column": null,
            "overflow_y": null,
            "overflow_x": null,
            "grid_auto_flow": null,
            "grid_area": null,
            "grid_template_columns": null,
            "flex": null,
            "_model_name": "LayoutModel",
            "justify_items": null,
            "grid_row": null,
            "max_height": null,
            "align_content": null,
            "visibility": null,
            "align_self": null,
            "height": null,
            "min_height": null,
            "padding": null,
            "grid_auto_rows": null,
            "grid_gap": null,
            "max_width": null,
            "order": null,
            "_view_module_version": "1.2.0",
            "grid_template_areas": null,
            "object_position": null,
            "object_fit": null,
            "grid_auto_columns": null,
            "margin": null,
            "display": null,
            "left": null
          }
        },
        "3750bc70a9d24461b12e50b57d1ef49e": {
          "model_module": "@jupyter-widgets/controls",
          "model_name": "HBoxModel",
          "state": {
            "_view_name": "HBoxView",
            "_dom_classes": [],
            "_model_name": "HBoxModel",
            "_view_module": "@jupyter-widgets/controls",
            "_model_module_version": "1.5.0",
            "_view_count": null,
            "_view_module_version": "1.5.0",
            "box_style": "",
            "layout": "IPY_MODEL_112aec435c4342dfa9fde4ba2289c285",
            "_model_module": "@jupyter-widgets/controls",
            "children": [
              "IPY_MODEL_3d250d43e12b40a3a2ca59a6a21a7282",
              "IPY_MODEL_c6cb04bb12de4adea52718a369008a02"
            ]
          }
        },
        "112aec435c4342dfa9fde4ba2289c285": {
          "model_module": "@jupyter-widgets/base",
          "model_name": "LayoutModel",
          "state": {
            "_view_name": "LayoutView",
            "grid_template_rows": null,
            "right": null,
            "justify_content": null,
            "_view_module": "@jupyter-widgets/base",
            "overflow": null,
            "_model_module_version": "1.2.0",
            "_view_count": null,
            "flex_flow": null,
            "width": null,
            "min_width": null,
            "border": null,
            "align_items": null,
            "bottom": null,
            "_model_module": "@jupyter-widgets/base",
            "top": null,
            "grid_column": null,
            "overflow_y": null,
            "overflow_x": null,
            "grid_auto_flow": null,
            "grid_area": null,
            "grid_template_columns": null,
            "flex": null,
            "_model_name": "LayoutModel",
            "justify_items": null,
            "grid_row": null,
            "max_height": null,
            "align_content": null,
            "visibility": null,
            "align_self": null,
            "height": null,
            "min_height": null,
            "padding": null,
            "grid_auto_rows": null,
            "grid_gap": null,
            "max_width": null,
            "order": null,
            "_view_module_version": "1.2.0",
            "grid_template_areas": null,
            "object_position": null,
            "object_fit": null,
            "grid_auto_columns": null,
            "margin": null,
            "display": null,
            "left": null
          }
        },
        "3d250d43e12b40a3a2ca59a6a21a7282": {
          "model_module": "@jupyter-widgets/controls",
          "model_name": "IntProgressModel",
          "state": {
            "_view_name": "ProgressView",
            "style": "IPY_MODEL_280d69a3b4de47f1bcdad330571c54b9",
            "_dom_classes": [],
            "description": "",
            "_model_name": "IntProgressModel",
            "bar_style": "success",
            "max": 1,
            "_view_module": "@jupyter-widgets/controls",
            "_model_module_version": "1.5.0",
            "value": 1,
            "_view_count": null,
            "_view_module_version": "1.5.0",
            "orientation": "horizontal",
            "min": 0,
            "description_tooltip": null,
            "_model_module": "@jupyter-widgets/controls",
            "layout": "IPY_MODEL_f8728ab4feab4acfaec6fdb5720f3462"
          }
        },
        "c6cb04bb12de4adea52718a369008a02": {
          "model_module": "@jupyter-widgets/controls",
          "model_name": "HTMLModel",
          "state": {
            "_view_name": "HTMLView",
            "style": "IPY_MODEL_0455f8005e194776941aff619a1e4166",
            "_dom_classes": [],
            "description": "",
            "_model_name": "HTMLModel",
            "placeholder": "​",
            "_view_module": "@jupyter-widgets/controls",
            "_model_module_version": "1.5.0",
            "value": "32768it [00:00, 112924.23it/s]",
            "_view_count": null,
            "_view_module_version": "1.5.0",
            "description_tooltip": null,
            "_model_module": "@jupyter-widgets/controls",
            "layout": "IPY_MODEL_e98a0b9c3fca4cbe923401838ad34b8b"
          }
        },
        "280d69a3b4de47f1bcdad330571c54b9": {
          "model_module": "@jupyter-widgets/controls",
          "model_name": "ProgressStyleModel",
          "state": {
            "_view_name": "StyleView",
            "_model_name": "ProgressStyleModel",
            "description_width": "",
            "_view_module": "@jupyter-widgets/base",
            "_model_module_version": "1.5.0",
            "_view_count": null,
            "_view_module_version": "1.2.0",
            "bar_color": null,
            "_model_module": "@jupyter-widgets/controls"
          }
        },
        "f8728ab4feab4acfaec6fdb5720f3462": {
          "model_module": "@jupyter-widgets/base",
          "model_name": "LayoutModel",
          "state": {
            "_view_name": "LayoutView",
            "grid_template_rows": null,
            "right": null,
            "justify_content": null,
            "_view_module": "@jupyter-widgets/base",
            "overflow": null,
            "_model_module_version": "1.2.0",
            "_view_count": null,
            "flex_flow": null,
            "width": null,
            "min_width": null,
            "border": null,
            "align_items": null,
            "bottom": null,
            "_model_module": "@jupyter-widgets/base",
            "top": null,
            "grid_column": null,
            "overflow_y": null,
            "overflow_x": null,
            "grid_auto_flow": null,
            "grid_area": null,
            "grid_template_columns": null,
            "flex": null,
            "_model_name": "LayoutModel",
            "justify_items": null,
            "grid_row": null,
            "max_height": null,
            "align_content": null,
            "visibility": null,
            "align_self": null,
            "height": null,
            "min_height": null,
            "padding": null,
            "grid_auto_rows": null,
            "grid_gap": null,
            "max_width": null,
            "order": null,
            "_view_module_version": "1.2.0",
            "grid_template_areas": null,
            "object_position": null,
            "object_fit": null,
            "grid_auto_columns": null,
            "margin": null,
            "display": null,
            "left": null
          }
        },
        "0455f8005e194776941aff619a1e4166": {
          "model_module": "@jupyter-widgets/controls",
          "model_name": "DescriptionStyleModel",
          "state": {
            "_view_name": "StyleView",
            "_model_name": "DescriptionStyleModel",
            "description_width": "",
            "_view_module": "@jupyter-widgets/base",
            "_model_module_version": "1.5.0",
            "_view_count": null,
            "_view_module_version": "1.2.0",
            "_model_module": "@jupyter-widgets/controls"
          }
        },
        "e98a0b9c3fca4cbe923401838ad34b8b": {
          "model_module": "@jupyter-widgets/base",
          "model_name": "LayoutModel",
          "state": {
            "_view_name": "LayoutView",
            "grid_template_rows": null,
            "right": null,
            "justify_content": null,
            "_view_module": "@jupyter-widgets/base",
            "overflow": null,
            "_model_module_version": "1.2.0",
            "_view_count": null,
            "flex_flow": null,
            "width": null,
            "min_width": null,
            "border": null,
            "align_items": null,
            "bottom": null,
            "_model_module": "@jupyter-widgets/base",
            "top": null,
            "grid_column": null,
            "overflow_y": null,
            "overflow_x": null,
            "grid_auto_flow": null,
            "grid_area": null,
            "grid_template_columns": null,
            "flex": null,
            "_model_name": "LayoutModel",
            "justify_items": null,
            "grid_row": null,
            "max_height": null,
            "align_content": null,
            "visibility": null,
            "align_self": null,
            "height": null,
            "min_height": null,
            "padding": null,
            "grid_auto_rows": null,
            "grid_gap": null,
            "max_width": null,
            "order": null,
            "_view_module_version": "1.2.0",
            "grid_template_areas": null,
            "object_position": null,
            "object_fit": null,
            "grid_auto_columns": null,
            "margin": null,
            "display": null,
            "left": null
          }
        },
        "7ac6cdf054194081a7c07591904ad64c": {
          "model_module": "@jupyter-widgets/controls",
          "model_name": "HBoxModel",
          "state": {
            "_view_name": "HBoxView",
            "_dom_classes": [],
            "_model_name": "HBoxModel",
            "_view_module": "@jupyter-widgets/controls",
            "_model_module_version": "1.5.0",
            "_view_count": null,
            "_view_module_version": "1.5.0",
            "box_style": "",
            "layout": "IPY_MODEL_51a0f8254ef34ec993cb8ca8a7e35f73",
            "_model_module": "@jupyter-widgets/controls",
            "children": [
              "IPY_MODEL_ff1ac58687e14607acd0c91f68d6ef2e",
              "IPY_MODEL_4406ae02af6042fd8baa32b357ca0d34"
            ]
          }
        },
        "51a0f8254ef34ec993cb8ca8a7e35f73": {
          "model_module": "@jupyter-widgets/base",
          "model_name": "LayoutModel",
          "state": {
            "_view_name": "LayoutView",
            "grid_template_rows": null,
            "right": null,
            "justify_content": null,
            "_view_module": "@jupyter-widgets/base",
            "overflow": null,
            "_model_module_version": "1.2.0",
            "_view_count": null,
            "flex_flow": null,
            "width": null,
            "min_width": null,
            "border": null,
            "align_items": null,
            "bottom": null,
            "_model_module": "@jupyter-widgets/base",
            "top": null,
            "grid_column": null,
            "overflow_y": null,
            "overflow_x": null,
            "grid_auto_flow": null,
            "grid_area": null,
            "grid_template_columns": null,
            "flex": null,
            "_model_name": "LayoutModel",
            "justify_items": null,
            "grid_row": null,
            "max_height": null,
            "align_content": null,
            "visibility": null,
            "align_self": null,
            "height": null,
            "min_height": null,
            "padding": null,
            "grid_auto_rows": null,
            "grid_gap": null,
            "max_width": null,
            "order": null,
            "_view_module_version": "1.2.0",
            "grid_template_areas": null,
            "object_position": null,
            "object_fit": null,
            "grid_auto_columns": null,
            "margin": null,
            "display": null,
            "left": null
          }
        },
        "ff1ac58687e14607acd0c91f68d6ef2e": {
          "model_module": "@jupyter-widgets/controls",
          "model_name": "IntProgressModel",
          "state": {
            "_view_name": "ProgressView",
            "style": "IPY_MODEL_65224bc73c1647958acb993c9fff2cb7",
            "_dom_classes": [],
            "description": "",
            "_model_name": "IntProgressModel",
            "bar_style": "success",
            "max": 1,
            "_view_module": "@jupyter-widgets/controls",
            "_model_module_version": "1.5.0",
            "value": 1,
            "_view_count": null,
            "_view_module_version": "1.5.0",
            "orientation": "horizontal",
            "min": 0,
            "description_tooltip": null,
            "_model_module": "@jupyter-widgets/controls",
            "layout": "IPY_MODEL_83c44b083bdc4284b7640410937dd96a"
          }
        },
        "4406ae02af6042fd8baa32b357ca0d34": {
          "model_module": "@jupyter-widgets/controls",
          "model_name": "HTMLModel",
          "state": {
            "_view_name": "HTMLView",
            "style": "IPY_MODEL_203398d15b724f8c96a79659686c38cc",
            "_dom_classes": [],
            "description": "",
            "_model_name": "HTMLModel",
            "placeholder": "​",
            "_view_module": "@jupyter-widgets/controls",
            "_model_module_version": "1.5.0",
            "value": "1654784it [00:00, 1949172.80it/s]",
            "_view_count": null,
            "_view_module_version": "1.5.0",
            "description_tooltip": null,
            "_model_module": "@jupyter-widgets/controls",
            "layout": "IPY_MODEL_942109df6f9649a593a2413370b1da22"
          }
        },
        "65224bc73c1647958acb993c9fff2cb7": {
          "model_module": "@jupyter-widgets/controls",
          "model_name": "ProgressStyleModel",
          "state": {
            "_view_name": "StyleView",
            "_model_name": "ProgressStyleModel",
            "description_width": "",
            "_view_module": "@jupyter-widgets/base",
            "_model_module_version": "1.5.0",
            "_view_count": null,
            "_view_module_version": "1.2.0",
            "bar_color": null,
            "_model_module": "@jupyter-widgets/controls"
          }
        },
        "83c44b083bdc4284b7640410937dd96a": {
          "model_module": "@jupyter-widgets/base",
          "model_name": "LayoutModel",
          "state": {
            "_view_name": "LayoutView",
            "grid_template_rows": null,
            "right": null,
            "justify_content": null,
            "_view_module": "@jupyter-widgets/base",
            "overflow": null,
            "_model_module_version": "1.2.0",
            "_view_count": null,
            "flex_flow": null,
            "width": null,
            "min_width": null,
            "border": null,
            "align_items": null,
            "bottom": null,
            "_model_module": "@jupyter-widgets/base",
            "top": null,
            "grid_column": null,
            "overflow_y": null,
            "overflow_x": null,
            "grid_auto_flow": null,
            "grid_area": null,
            "grid_template_columns": null,
            "flex": null,
            "_model_name": "LayoutModel",
            "justify_items": null,
            "grid_row": null,
            "max_height": null,
            "align_content": null,
            "visibility": null,
            "align_self": null,
            "height": null,
            "min_height": null,
            "padding": null,
            "grid_auto_rows": null,
            "grid_gap": null,
            "max_width": null,
            "order": null,
            "_view_module_version": "1.2.0",
            "grid_template_areas": null,
            "object_position": null,
            "object_fit": null,
            "grid_auto_columns": null,
            "margin": null,
            "display": null,
            "left": null
          }
        },
        "203398d15b724f8c96a79659686c38cc": {
          "model_module": "@jupyter-widgets/controls",
          "model_name": "DescriptionStyleModel",
          "state": {
            "_view_name": "StyleView",
            "_model_name": "DescriptionStyleModel",
            "description_width": "",
            "_view_module": "@jupyter-widgets/base",
            "_model_module_version": "1.5.0",
            "_view_count": null,
            "_view_module_version": "1.2.0",
            "_model_module": "@jupyter-widgets/controls"
          }
        },
        "942109df6f9649a593a2413370b1da22": {
          "model_module": "@jupyter-widgets/base",
          "model_name": "LayoutModel",
          "state": {
            "_view_name": "LayoutView",
            "grid_template_rows": null,
            "right": null,
            "justify_content": null,
            "_view_module": "@jupyter-widgets/base",
            "overflow": null,
            "_model_module_version": "1.2.0",
            "_view_count": null,
            "flex_flow": null,
            "width": null,
            "min_width": null,
            "border": null,
            "align_items": null,
            "bottom": null,
            "_model_module": "@jupyter-widgets/base",
            "top": null,
            "grid_column": null,
            "overflow_y": null,
            "overflow_x": null,
            "grid_auto_flow": null,
            "grid_area": null,
            "grid_template_columns": null,
            "flex": null,
            "_model_name": "LayoutModel",
            "justify_items": null,
            "grid_row": null,
            "max_height": null,
            "align_content": null,
            "visibility": null,
            "align_self": null,
            "height": null,
            "min_height": null,
            "padding": null,
            "grid_auto_rows": null,
            "grid_gap": null,
            "max_width": null,
            "order": null,
            "_view_module_version": "1.2.0",
            "grid_template_areas": null,
            "object_position": null,
            "object_fit": null,
            "grid_auto_columns": null,
            "margin": null,
            "display": null,
            "left": null
          }
        },
        "297785d1cced49a19cd4b152d4cbeff6": {
          "model_module": "@jupyter-widgets/controls",
          "model_name": "HBoxModel",
          "state": {
            "_view_name": "HBoxView",
            "_dom_classes": [],
            "_model_name": "HBoxModel",
            "_view_module": "@jupyter-widgets/controls",
            "_model_module_version": "1.5.0",
            "_view_count": null,
            "_view_module_version": "1.5.0",
            "box_style": "",
            "layout": "IPY_MODEL_a2107d0078f44691af98acfa151c7f54",
            "_model_module": "@jupyter-widgets/controls",
            "children": [
              "IPY_MODEL_291ccb3f6f3f4990abb0aa9ee194e1e3",
              "IPY_MODEL_87f44e0d3c7947aeb6105a3f50f33a3e"
            ]
          }
        },
        "a2107d0078f44691af98acfa151c7f54": {
          "model_module": "@jupyter-widgets/base",
          "model_name": "LayoutModel",
          "state": {
            "_view_name": "LayoutView",
            "grid_template_rows": null,
            "right": null,
            "justify_content": null,
            "_view_module": "@jupyter-widgets/base",
            "overflow": null,
            "_model_module_version": "1.2.0",
            "_view_count": null,
            "flex_flow": null,
            "width": null,
            "min_width": null,
            "border": null,
            "align_items": null,
            "bottom": null,
            "_model_module": "@jupyter-widgets/base",
            "top": null,
            "grid_column": null,
            "overflow_y": null,
            "overflow_x": null,
            "grid_auto_flow": null,
            "grid_area": null,
            "grid_template_columns": null,
            "flex": null,
            "_model_name": "LayoutModel",
            "justify_items": null,
            "grid_row": null,
            "max_height": null,
            "align_content": null,
            "visibility": null,
            "align_self": null,
            "height": null,
            "min_height": null,
            "padding": null,
            "grid_auto_rows": null,
            "grid_gap": null,
            "max_width": null,
            "order": null,
            "_view_module_version": "1.2.0",
            "grid_template_areas": null,
            "object_position": null,
            "object_fit": null,
            "grid_auto_columns": null,
            "margin": null,
            "display": null,
            "left": null
          }
        },
        "291ccb3f6f3f4990abb0aa9ee194e1e3": {
          "model_module": "@jupyter-widgets/controls",
          "model_name": "IntProgressModel",
          "state": {
            "_view_name": "ProgressView",
            "style": "IPY_MODEL_1188d9ffef374b89b67270d49c5aa391",
            "_dom_classes": [],
            "description": "",
            "_model_name": "IntProgressModel",
            "bar_style": "success",
            "max": 1,
            "_view_module": "@jupyter-widgets/controls",
            "_model_module_version": "1.5.0",
            "value": 1,
            "_view_count": null,
            "_view_module_version": "1.5.0",
            "orientation": "horizontal",
            "min": 0,
            "description_tooltip": null,
            "_model_module": "@jupyter-widgets/controls",
            "layout": "IPY_MODEL_0438b848de024b379ec06b88d192d5be"
          }
        },
        "87f44e0d3c7947aeb6105a3f50f33a3e": {
          "model_module": "@jupyter-widgets/controls",
          "model_name": "HTMLModel",
          "state": {
            "_view_name": "HTMLView",
            "style": "IPY_MODEL_b4865e93305d41fd9b106e2190f3227b",
            "_dom_classes": [],
            "description": "",
            "_model_name": "HTMLModel",
            "placeholder": "​",
            "_view_module": "@jupyter-widgets/controls",
            "_model_module_version": "1.5.0",
            "value": "8192it [00:00, 40367.37it/s]",
            "_view_count": null,
            "_view_module_version": "1.5.0",
            "description_tooltip": null,
            "_model_module": "@jupyter-widgets/controls",
            "layout": "IPY_MODEL_22c157ff864a4f098fa885d2de41cfb6"
          }
        },
        "1188d9ffef374b89b67270d49c5aa391": {
          "model_module": "@jupyter-widgets/controls",
          "model_name": "ProgressStyleModel",
          "state": {
            "_view_name": "StyleView",
            "_model_name": "ProgressStyleModel",
            "description_width": "",
            "_view_module": "@jupyter-widgets/base",
            "_model_module_version": "1.5.0",
            "_view_count": null,
            "_view_module_version": "1.2.0",
            "bar_color": null,
            "_model_module": "@jupyter-widgets/controls"
          }
        },
        "0438b848de024b379ec06b88d192d5be": {
          "model_module": "@jupyter-widgets/base",
          "model_name": "LayoutModel",
          "state": {
            "_view_name": "LayoutView",
            "grid_template_rows": null,
            "right": null,
            "justify_content": null,
            "_view_module": "@jupyter-widgets/base",
            "overflow": null,
            "_model_module_version": "1.2.0",
            "_view_count": null,
            "flex_flow": null,
            "width": null,
            "min_width": null,
            "border": null,
            "align_items": null,
            "bottom": null,
            "_model_module": "@jupyter-widgets/base",
            "top": null,
            "grid_column": null,
            "overflow_y": null,
            "overflow_x": null,
            "grid_auto_flow": null,
            "grid_area": null,
            "grid_template_columns": null,
            "flex": null,
            "_model_name": "LayoutModel",
            "justify_items": null,
            "grid_row": null,
            "max_height": null,
            "align_content": null,
            "visibility": null,
            "align_self": null,
            "height": null,
            "min_height": null,
            "padding": null,
            "grid_auto_rows": null,
            "grid_gap": null,
            "max_width": null,
            "order": null,
            "_view_module_version": "1.2.0",
            "grid_template_areas": null,
            "object_position": null,
            "object_fit": null,
            "grid_auto_columns": null,
            "margin": null,
            "display": null,
            "left": null
          }
        },
        "b4865e93305d41fd9b106e2190f3227b": {
          "model_module": "@jupyter-widgets/controls",
          "model_name": "DescriptionStyleModel",
          "state": {
            "_view_name": "StyleView",
            "_model_name": "DescriptionStyleModel",
            "description_width": "",
            "_view_module": "@jupyter-widgets/base",
            "_model_module_version": "1.5.0",
            "_view_count": null,
            "_view_module_version": "1.2.0",
            "_model_module": "@jupyter-widgets/controls"
          }
        },
        "22c157ff864a4f098fa885d2de41cfb6": {
          "model_module": "@jupyter-widgets/base",
          "model_name": "LayoutModel",
          "state": {
            "_view_name": "LayoutView",
            "grid_template_rows": null,
            "right": null,
            "justify_content": null,
            "_view_module": "@jupyter-widgets/base",
            "overflow": null,
            "_model_module_version": "1.2.0",
            "_view_count": null,
            "flex_flow": null,
            "width": null,
            "min_width": null,
            "border": null,
            "align_items": null,
            "bottom": null,
            "_model_module": "@jupyter-widgets/base",
            "top": null,
            "grid_column": null,
            "overflow_y": null,
            "overflow_x": null,
            "grid_auto_flow": null,
            "grid_area": null,
            "grid_template_columns": null,
            "flex": null,
            "_model_name": "LayoutModel",
            "justify_items": null,
            "grid_row": null,
            "max_height": null,
            "align_content": null,
            "visibility": null,
            "align_self": null,
            "height": null,
            "min_height": null,
            "padding": null,
            "grid_auto_rows": null,
            "grid_gap": null,
            "max_width": null,
            "order": null,
            "_view_module_version": "1.2.0",
            "grid_template_areas": null,
            "object_position": null,
            "object_fit": null,
            "grid_auto_columns": null,
            "margin": null,
            "display": null,
            "left": null
          }
        }
      }
    }
  },
  "cells": [
    {
      "cell_type": "markdown",
      "metadata": {
        "id": "view-in-github",
        "colab_type": "text"
      },
      "source": [
        "<a href=\"https://colab.research.google.com/github/dganguli/tlon/blob/master/train_models.ipynb\" target=\"_parent\"><img src=\"https://colab.research.google.com/assets/colab-badge.svg\" alt=\"Open In Colab\"/></a>"
      ]
    },
    {
      "cell_type": "markdown",
      "metadata": {
        "id": "weZ5BSgbinEf",
        "colab_type": "text"
      },
      "source": [
        "# Train a CNN and a CGAN on MNIST Data\n",
        "\n",
        "The CNN is used to classify MNIST digits\n",
        "\n",
        "The cGAN is used to generate synthetic MNIST digits\n",
        "\n",
        "This notebook trains both networks and saves the trained models for subsequent analysis. Code for model definitions are cloned from: https://github.com/dganguli/tlon"
      ]
    },
    {
      "cell_type": "code",
      "metadata": {
        "id": "KCR7k8ahvCE3",
        "colab_type": "code",
        "outputId": "40633ab7-c46b-480a-e869-270b09f0db39",
        "colab": {
          "base_uri": "https://localhost:8080/",
          "height": 68
        }
      },
      "source": [
        "import pandas as pd\n",
        "import seaborn as sns\n",
        "import numpy as np\n",
        "import time\n",
        "import torch\n",
        "\n",
        "import matplotlib.pyplot as plt\n",
        "\n",
        "print(\"torch cuda is available: {}\".format(torch.cuda.is_available()))\n",
        "print(\"number of gpus: {}\".format(torch.cuda.device_count()))\n",
        "print(\"1st gpu is of type: {}\".format(torch.cuda.get_device_name(0)))"
      ],
      "execution_count": 1,
      "outputs": [
        {
          "output_type": "stream",
          "text": [
            "torch cuda is available: True\n",
            "number of gpus: 1\n",
            "1st gpu is of type: Tesla T4\n"
          ],
          "name": "stdout"
        }
      ]
    },
    {
      "cell_type": "code",
      "metadata": {
        "id": "SAjWm78F06S-",
        "colab_type": "code",
        "outputId": "45163e05-3509-4a09-90f0-22d344da20e4",
        "colab": {
          "base_uri": "https://localhost:8080/",
          "height": 462
        }
      },
      "source": [
        "import sys\n",
        "! git clone https://github.com/dganguli/tlon.git\n",
        "%cd /content/tlon/\n",
        "! git pull\n",
        "sys.path.append('/content/tlon')\n",
        "\n",
        "!pip install showit"
      ],
      "execution_count": 2,
      "outputs": [
        {
          "output_type": "stream",
          "text": [
            "Cloning into 'tlon'...\n",
            "remote: Enumerating objects: 88, done.\u001b[K\n",
            "remote: Counting objects: 100% (88/88), done.\u001b[K\n",
            "remote: Compressing objects: 100% (63/63), done.\u001b[K\n",
            "remote: Total 88 (delta 48), reused 57 (delta 25), pack-reused 0\u001b[K\n",
            "Unpacking objects: 100% (88/88), done.\n",
            "/content/tlon\n",
            "Already up to date.\n",
            "Collecting showit\n",
            "  Downloading https://files.pythonhosted.org/packages/c6/be/03376c27adb7dc9315752839f602d695a61bf7a5f8ab74eee02667ed965c/showit-1.1.4.tar.gz\n",
            "Requirement already satisfied: numpy in /usr/local/lib/python3.6/dist-packages (from showit) (1.17.5)\n",
            "Requirement already satisfied: matplotlib in /usr/local/lib/python3.6/dist-packages (from showit) (3.1.3)\n",
            "Requirement already satisfied: pyparsing!=2.0.4,!=2.1.2,!=2.1.6,>=2.0.1 in /usr/local/lib/python3.6/dist-packages (from matplotlib->showit) (2.4.6)\n",
            "Requirement already satisfied: python-dateutil>=2.1 in /usr/local/lib/python3.6/dist-packages (from matplotlib->showit) (2.6.1)\n",
            "Requirement already satisfied: cycler>=0.10 in /usr/local/lib/python3.6/dist-packages (from matplotlib->showit) (0.10.0)\n",
            "Requirement already satisfied: kiwisolver>=1.0.1 in /usr/local/lib/python3.6/dist-packages (from matplotlib->showit) (1.1.0)\n",
            "Requirement already satisfied: six>=1.5 in /usr/local/lib/python3.6/dist-packages (from python-dateutil>=2.1->matplotlib->showit) (1.12.0)\n",
            "Requirement already satisfied: setuptools in /usr/local/lib/python3.6/dist-packages (from kiwisolver>=1.0.1->matplotlib->showit) (45.2.0)\n",
            "Building wheels for collected packages: showit\n",
            "  Building wheel for showit (setup.py) ... \u001b[?25l\u001b[?25hdone\n",
            "  Created wheel for showit: filename=showit-1.1.4-cp36-none-any.whl size=3642 sha256=b9651a3297fee07cbbd4591dd630e54e8057b80c3d365c8cf8494137522555ec\n",
            "  Stored in directory: /root/.cache/pip/wheels/c9/60/f6/132ceb04843c22c202133ae966fc8fc1b7950aac6372e65d30\n",
            "Successfully built showit\n",
            "Installing collected packages: showit\n",
            "Successfully installed showit-1.1.4\n"
          ],
          "name": "stdout"
        }
      ]
    },
    {
      "cell_type": "markdown",
      "metadata": {
        "id": "0k90PIXV-U7L",
        "colab_type": "text"
      },
      "source": [
        "# Download MNIST training data"
      ]
    },
    {
      "cell_type": "code",
      "metadata": {
        "id": "z-73V6zuwAeS",
        "colab_type": "code",
        "outputId": "3804b8f8-b14d-4531-91d4-375faca9076e",
        "colab": {
          "base_uri": "https://localhost:8080/",
          "height": 383,
          "referenced_widgets": [
            "9dd307b3add9472192b1db15cd3ec21d",
            "0ca36e1b7f294a61aa72707949ddef93",
            "7a85098dcfff48138a9a107a35c1af42",
            "e2726d8b8a7d40dba9e2e8cddfd6b5de",
            "8e3db93b029946db8e14dadce093f10c",
            "13b8a70c7b284f1aa7527adca684fa6a",
            "b2c925bffbe34bc3917f5939767ea644",
            "7d3f18eb2f4346088e39e549b5346b77",
            "3750bc70a9d24461b12e50b57d1ef49e",
            "112aec435c4342dfa9fde4ba2289c285",
            "3d250d43e12b40a3a2ca59a6a21a7282",
            "c6cb04bb12de4adea52718a369008a02",
            "280d69a3b4de47f1bcdad330571c54b9",
            "f8728ab4feab4acfaec6fdb5720f3462",
            "0455f8005e194776941aff619a1e4166",
            "e98a0b9c3fca4cbe923401838ad34b8b",
            "7ac6cdf054194081a7c07591904ad64c",
            "51a0f8254ef34ec993cb8ca8a7e35f73",
            "ff1ac58687e14607acd0c91f68d6ef2e",
            "4406ae02af6042fd8baa32b357ca0d34",
            "65224bc73c1647958acb993c9fff2cb7",
            "83c44b083bdc4284b7640410937dd96a",
            "203398d15b724f8c96a79659686c38cc",
            "942109df6f9649a593a2413370b1da22",
            "297785d1cced49a19cd4b152d4cbeff6",
            "a2107d0078f44691af98acfa151c7f54",
            "291ccb3f6f3f4990abb0aa9ee194e1e3",
            "87f44e0d3c7947aeb6105a3f50f33a3e",
            "1188d9ffef374b89b67270d49c5aa391",
            "0438b848de024b379ec06b88d192d5be",
            "b4865e93305d41fd9b106e2190f3227b",
            "22c157ff864a4f098fa885d2de41cfb6"
          ]
        }
      },
      "source": [
        "from data import load_mnist\n",
        "from cnn import CNNTrainer\n",
        "\n",
        "random_seed = 1\n",
        "torch.manual_seed(random_seed)\n",
        "\n",
        "train_loader, test_loader = load_mnist('/tmp')"
      ],
      "execution_count": 3,
      "outputs": [
        {
          "output_type": "stream",
          "text": [
            "Downloading http://yann.lecun.com/exdb/mnist/train-images-idx3-ubyte.gz to /tmp/MNIST/raw/train-images-idx3-ubyte.gz\n"
          ],
          "name": "stdout"
        },
        {
          "output_type": "display_data",
          "data": {
            "application/vnd.jupyter.widget-view+json": {
              "model_id": "9dd307b3add9472192b1db15cd3ec21d",
              "version_minor": 0,
              "version_major": 2
            },
            "text/plain": [
              "HBox(children=(IntProgress(value=1, bar_style='info', max=1), HTML(value='')))"
            ]
          },
          "metadata": {
            "tags": []
          }
        },
        {
          "output_type": "stream",
          "text": [
            "\n",
            "Extracting /tmp/MNIST/raw/train-images-idx3-ubyte.gz to /tmp/MNIST/raw\n",
            "Downloading http://yann.lecun.com/exdb/mnist/train-labels-idx1-ubyte.gz to /tmp/MNIST/raw/train-labels-idx1-ubyte.gz\n"
          ],
          "name": "stdout"
        },
        {
          "output_type": "display_data",
          "data": {
            "application/vnd.jupyter.widget-view+json": {
              "model_id": "3750bc70a9d24461b12e50b57d1ef49e",
              "version_minor": 0,
              "version_major": 2
            },
            "text/plain": [
              "HBox(children=(IntProgress(value=1, bar_style='info', max=1), HTML(value='')))"
            ]
          },
          "metadata": {
            "tags": []
          }
        },
        {
          "output_type": "stream",
          "text": [
            "\n",
            "Extracting /tmp/MNIST/raw/train-labels-idx1-ubyte.gz to /tmp/MNIST/raw\n",
            "Downloading http://yann.lecun.com/exdb/mnist/t10k-images-idx3-ubyte.gz to /tmp/MNIST/raw/t10k-images-idx3-ubyte.gz\n"
          ],
          "name": "stdout"
        },
        {
          "output_type": "display_data",
          "data": {
            "application/vnd.jupyter.widget-view+json": {
              "model_id": "7ac6cdf054194081a7c07591904ad64c",
              "version_minor": 0,
              "version_major": 2
            },
            "text/plain": [
              "HBox(children=(IntProgress(value=1, bar_style='info', max=1), HTML(value='')))"
            ]
          },
          "metadata": {
            "tags": []
          }
        },
        {
          "output_type": "stream",
          "text": [
            "\n",
            "Extracting /tmp/MNIST/raw/t10k-images-idx3-ubyte.gz to /tmp/MNIST/raw\n",
            "Downloading http://yann.lecun.com/exdb/mnist/t10k-labels-idx1-ubyte.gz to /tmp/MNIST/raw/t10k-labels-idx1-ubyte.gz\n"
          ],
          "name": "stdout"
        },
        {
          "output_type": "display_data",
          "data": {
            "application/vnd.jupyter.widget-view+json": {
              "model_id": "297785d1cced49a19cd4b152d4cbeff6",
              "version_minor": 0,
              "version_major": 2
            },
            "text/plain": [
              "HBox(children=(IntProgress(value=1, bar_style='info', max=1), HTML(value='')))"
            ]
          },
          "metadata": {
            "tags": []
          }
        },
        {
          "output_type": "stream",
          "text": [
            "\n",
            "Extracting /tmp/MNIST/raw/t10k-labels-idx1-ubyte.gz to /tmp/MNIST/raw\n",
            "Processing...\n",
            "Done!\n"
          ],
          "name": "stdout"
        }
      ]
    },
    {
      "cell_type": "markdown",
      "metadata": {
        "id": "atUkLfvk-ccF",
        "colab_type": "text"
      },
      "source": [
        "# Train a CNN on MNIST data"
      ]
    },
    {
      "cell_type": "code",
      "metadata": {
        "id": "joGXFwj6lSfQ",
        "colab_type": "code",
        "colab": {
          "base_uri": "https://localhost:8080/",
          "height": 748
        },
        "outputId": "0cd1f926-7ec1-4634-e1ea-51f4bc8fee31"
      },
      "source": [
        "cnn_trainer = CNNTrainer(train_loader, test_loader, save_path='/content')\n",
        "\n",
        "start = time.time()\n",
        "cnn_trainer.train(log_interval=100)\n",
        "elapsed = time.time()\n",
        "total = elapsed-start\n",
        "print(\"time elapsed: {} seconds\".format(total))"
      ],
      "execution_count": 4,
      "outputs": [
        {
          "output_type": "stream",
          "text": [
            "\n",
            "Test set: Avg. loss: 2.3169, Accuracy: 1135/10000 (11%)\n",
            "\n",
            "Train Epoch: 1 [0/60000 (0%)]\tLoss: 2.329414\n",
            "Train Epoch: 1 [6400/60000 (11%)]\tLoss: 2.266296\n",
            "Train Epoch: 1 [12800/60000 (21%)]\tLoss: 1.965345\n",
            "Train Epoch: 1 [19200/60000 (32%)]\tLoss: 1.497421\n",
            "Train Epoch: 1 [25600/60000 (43%)]\tLoss: 1.126295\n",
            "Train Epoch: 1 [32000/60000 (53%)]\tLoss: 0.890962\n",
            "Train Epoch: 1 [38400/60000 (64%)]\tLoss: 0.668660\n",
            "Train Epoch: 1 [44800/60000 (75%)]\tLoss: 0.658087\n",
            "Train Epoch: 1 [51200/60000 (85%)]\tLoss: 0.505308\n",
            "Train Epoch: 1 [57600/60000 (96%)]\tLoss: 0.374695\n",
            "\n",
            "Test set: Avg. loss: 0.2441, Accuracy: 9281/10000 (93%)\n",
            "\n",
            "Train Epoch: 2 [0/60000 (0%)]\tLoss: 0.487649\n",
            "Train Epoch: 2 [6400/60000 (11%)]\tLoss: 0.390599\n",
            "Train Epoch: 2 [12800/60000 (21%)]\tLoss: 0.383960\n",
            "Train Epoch: 2 [19200/60000 (32%)]\tLoss: 0.453645\n",
            "Train Epoch: 2 [25600/60000 (43%)]\tLoss: 0.203565\n",
            "Train Epoch: 2 [32000/60000 (53%)]\tLoss: 0.261903\n",
            "Train Epoch: 2 [38400/60000 (64%)]\tLoss: 0.467160\n",
            "Train Epoch: 2 [44800/60000 (75%)]\tLoss: 0.233707\n",
            "Train Epoch: 2 [51200/60000 (85%)]\tLoss: 0.309555\n",
            "Train Epoch: 2 [57600/60000 (96%)]\tLoss: 0.420861\n",
            "\n",
            "Test set: Avg. loss: 0.1302, Accuracy: 9605/10000 (96%)\n",
            "\n",
            "Train Epoch: 3 [0/60000 (0%)]\tLoss: 0.192590\n",
            "Train Epoch: 3 [6400/60000 (11%)]\tLoss: 0.309094\n",
            "Train Epoch: 3 [12800/60000 (21%)]\tLoss: 0.404215\n",
            "Train Epoch: 3 [19200/60000 (32%)]\tLoss: 0.443617\n",
            "Train Epoch: 3 [25600/60000 (43%)]\tLoss: 0.354824\n",
            "Train Epoch: 3 [32000/60000 (53%)]\tLoss: 0.432995\n",
            "Train Epoch: 3 [38400/60000 (64%)]\tLoss: 0.311695\n",
            "Train Epoch: 3 [44800/60000 (75%)]\tLoss: 0.387956\n",
            "Train Epoch: 3 [51200/60000 (85%)]\tLoss: 0.239269\n",
            "Train Epoch: 3 [57600/60000 (96%)]\tLoss: 0.207851\n",
            "\n",
            "Test set: Avg. loss: 0.0979, Accuracy: 9681/10000 (97%)\n",
            "\n",
            "time elapsed: 36.229371547698975 seconds\n"
          ],
          "name": "stdout"
        }
      ]
    },
    {
      "cell_type": "code",
      "metadata": {
        "id": "OBCsWlikXnbB",
        "colab_type": "code",
        "colab": {
          "base_uri": "https://localhost:8080/",
          "height": 335
        },
        "outputId": "f097d837-bbf8-4264-ff8b-60d5389e47a6"
      },
      "source": [
        "sns.set_context('talk')\n",
        "fig = plt.figure()\n",
        "plt.plot(cnn_trainer.train_counter, cnn_trainer.train_losses, 'k')\n",
        "plt.scatter(cnn_trainer.test_counter, cnn_trainer.test_losses, color='r')\n",
        "plt.legend(['train Loss', 'test Loss'], loc='upper right')\n",
        "plt.xlabel('number of training examples seen')\n",
        "plt.ylabel('negative log likelihood loss')\n",
        "sns.despine(offset=20)"
      ],
      "execution_count": 6,
      "outputs": [
        {
          "output_type": "display_data",
          "data": {
            "image/png": "[encoded data removed]",
            "text/plain": [
              "<Figure size 432x288 with 1 Axes>"
            ]
          },
          "metadata": {
            "tags": []
          }
        }
      ]
    },
    {
      "cell_type": "markdown",
      "metadata": {
        "id": "3JHLL3tf987i",
        "colab_type": "text"
      },
      "source": [
        "# Train a cGAN to generate synthetic data"
      ]
    },
    {
      "cell_type": "code",
      "metadata": {
        "id": "w62lc_hQdlIs",
        "colab_type": "code",
        "colab": {
          "base_uri": "https://localhost:8080/",
          "height": 391
        },
        "outputId": "84c17f25-ae9d-40e3-f650-946798e4fc60"
      },
      "source": [
        "from cgan import CGANTrainer\n",
        "\n",
        "cgan_trainer = CGANTrainer(train_loader, \n",
        "                           save_path='/content',\n",
        "                           n_epochs=20\n",
        "                           )\n",
        "\n",
        "start = time.time()\n",
        "cgan_trainer.train(log_interval=1000)\n",
        "elapsed = time.time()\n",
        "total = elapsed-start\n",
        "print(\"time elapsed: {} seconds\".format(total))"
      ],
      "execution_count": 8,
      "outputs": [
        {
          "output_type": "stream",
          "text": [
            "Sending models to gpu\n",
            "[Epoch 1/20] [Batch 0/938] [D loss: 0.526873] [G loss: 1.025451]\n",
            "[Epoch 2/20] [Batch 0/938] [D loss: 0.076316] [G loss: 0.543623]\n",
            "[Epoch 3/20] [Batch 0/938] [D loss: 0.098292] [G loss: 0.722259]\n",
            "[Epoch 4/20] [Batch 0/938] [D loss: 0.109037] [G loss: 0.519179]\n",
            "[Epoch 5/20] [Batch 0/938] [D loss: 0.123392] [G loss: 0.541854]\n",
            "[Epoch 6/20] [Batch 0/938] [D loss: 0.119198] [G loss: 0.564595]\n",
            "[Epoch 7/20] [Batch 0/938] [D loss: 0.121358] [G loss: 0.481312]\n",
            "[Epoch 8/20] [Batch 0/938] [D loss: 0.123017] [G loss: 0.494519]\n",
            "[Epoch 9/20] [Batch 0/938] [D loss: 0.163460] [G loss: 0.338300]\n",
            "[Epoch 10/20] [Batch 0/938] [D loss: 0.152001] [G loss: 0.434674]\n",
            "[Epoch 11/20] [Batch 0/938] [D loss: 0.186481] [G loss: 0.302928]\n",
            "[Epoch 12/20] [Batch 0/938] [D loss: 0.196315] [G loss: 0.496282]\n",
            "[Epoch 13/20] [Batch 0/938] [D loss: 0.178939] [G loss: 0.369107]\n",
            "[Epoch 14/20] [Batch 0/938] [D loss: 0.176525] [G loss: 0.361235]\n",
            "[Epoch 15/20] [Batch 0/938] [D loss: 0.180986] [G loss: 0.403975]\n",
            "[Epoch 16/20] [Batch 0/938] [D loss: 0.242449] [G loss: 0.259147]\n",
            "[Epoch 17/20] [Batch 0/938] [D loss: 0.187099] [G loss: 0.482614]\n",
            "[Epoch 18/20] [Batch 0/938] [D loss: 0.224450] [G loss: 0.328290]\n",
            "[Epoch 19/20] [Batch 0/938] [D loss: 0.226524] [G loss: 0.260731]\n",
            "[Epoch 20/20] [Batch 0/938] [D loss: 0.214884] [G loss: 0.334400]\n",
            "time elapsed: 331.15334010124207 seconds\n"
          ],
          "name": "stdout"
        }
      ]
    },
    {
      "cell_type": "code",
      "metadata": {
        "id": "1zmt3zMwF3B9",
        "colab_type": "code",
        "colab": {
          "base_uri": "https://localhost:8080/",
          "height": 321
        },
        "outputId": "08006e9a-0d9c-46b5-8c47-ebb3914b72c7"
      },
      "source": [
        "sns.set_context('talk')\n",
        "fig = plt.figure()\n",
        "plt.plot(cgan_trainer.train_counter, cgan_trainer.train_losses_discriminator, 'k')\n",
        "plt.plot(cgan_trainer.train_counter, cgan_trainer.train_losses_generator, 'r')\n",
        "plt.legend(['discriminator', 'generator'], loc='upper right')\n",
        "plt.xlabel('number of training examples seen')\n",
        "plt.ylabel('MSE')\n",
        "sns.despine(offset=20)"
      ],
      "execution_count": 11,
      "outputs": [
        {
          "output_type": "display_data",
          "data": {
            "image/png": "[encoded data removed]",
            "text/plain": [
              "<Figure size 432x288 with 1 Axes>"
            ]
          },
          "metadata": {
            "tags": []
          }
        }
      ]
    },
    {
      "cell_type": "markdown",
      "metadata": {
        "id": "IDRICRe-9zOQ",
        "colab_type": "text"
      },
      "source": [
        "# Visualize synthetic images from the trained cGAN"
      ]
    },
    {
      "cell_type": "code",
      "metadata": {
        "id": "-dwgQH6mojBH",
        "colab_type": "code",
        "colab": {
          "base_uri": "https://localhost:8080/",
          "height": 520
        },
        "outputId": "124bcfe5-da15-44ed-90b1-9f98a19e56ba"
      },
      "source": [
        "from torch.autograd import Variable\n",
        "from showit import tile\n",
        "\n",
        "cuda = True if torch.cuda.is_available() else False\n",
        "FloatTensor = torch.cuda.FloatTensor if cuda else torch.FloatTensor\n",
        "LongTensor = torch.cuda.LongTensor if cuda else torch.LongTensor\n",
        "n=10\n",
        "latent_dim=100\n",
        "\n",
        "z = Variable(FloatTensor(np.random.normal(0, 1, (n**2, latent_dim))))\n",
        "labels = np.array([num for _ in range(n) for num in range(n)])\n",
        "\n",
        "labels = Variable(LongTensor(labels))\n",
        "out = cgan_trainer.generator(z,labels)\n",
        "\n",
        "out = out.data.cpu().numpy().squeeze(axis=1)\n",
        "tile(out);"
      ],
      "execution_count": 10,
      "outputs": [
        {
          "output_type": "display_data",
          "data": {
            "image/png": "[encoded data removed]",
            "text/plain": [
              "<Figure size 648x648 with 200 Axes>"
            ]
          },
          "metadata": {
            "tags": []
          }
        }
      ]
    },
    {
      "cell_type": "code",
      "metadata": {
        "id": "W69oG0u-lRrM",
        "colab_type": "code",
        "colab": {}
      },
      "source": [
        ""
      ],
      "execution_count": 0,
      "outputs": []
    }
  ]
}