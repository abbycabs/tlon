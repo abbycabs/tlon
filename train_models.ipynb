{
  "nbformat": 4,
  "nbformat_minor": 0,
  "metadata": {
    "colab": {
      "name": "train_models.ipynb",
      "provenance": [],
      "collapsed_sections": [],
      "toc_visible": true,
      "include_colab_link": true
    },
    "kernelspec": {
      "name": "python3",
      "display_name": "Python 3"
    },
    "accelerator": "GPU",
    "widgets": {
      "application/vnd.jupyter.widget-state+json": {
        "bf3fd4c23bd74ef9908026cb278df384": {
          "model_module": "@jupyter-widgets/controls",
          "model_name": "HBoxModel",
          "state": {
            "_view_name": "HBoxView",
            "_dom_classes": [],
            "_model_name": "HBoxModel",
            "_view_module": "@jupyter-widgets/controls",
            "_model_module_version": "1.5.0",
            "_view_count": null,
            "_view_module_version": "1.5.0",
            "box_style": "",
            "layout": "IPY_MODEL_8377c9b5d4ff4af8909c050aa92c825b",
            "_model_module": "@jupyter-widgets/controls",
            "children": [
              "IPY_MODEL_7f8de59a76754064bfb6e782058abf79",
              "IPY_MODEL_a8c631dd3fb946beb67025763a0d41cf"
            ]
          }
        },
        "8377c9b5d4ff4af8909c050aa92c825b": {
          "model_module": "@jupyter-widgets/base",
          "model_name": "LayoutModel",
          "state": {
            "_view_name": "LayoutView",
            "grid_template_rows": null,
            "right": null,
            "justify_content": null,
            "_view_module": "@jupyter-widgets/base",
            "overflow": null,
            "_model_module_version": "1.2.0",
            "_view_count": null,
            "flex_flow": null,
            "width": null,
            "min_width": null,
            "border": null,
            "align_items": null,
            "bottom": null,
            "_model_module": "@jupyter-widgets/base",
            "top": null,
            "grid_column": null,
            "overflow_y": null,
            "overflow_x": null,
            "grid_auto_flow": null,
            "grid_area": null,
            "grid_template_columns": null,
            "flex": null,
            "_model_name": "LayoutModel",
            "justify_items": null,
            "grid_row": null,
            "max_height": null,
            "align_content": null,
            "visibility": null,
            "align_self": null,
            "height": null,
            "min_height": null,
            "padding": null,
            "grid_auto_rows": null,
            "grid_gap": null,
            "max_width": null,
            "order": null,
            "_view_module_version": "1.2.0",
            "grid_template_areas": null,
            "object_position": null,
            "object_fit": null,
            "grid_auto_columns": null,
            "margin": null,
            "display": null,
            "left": null
          }
        },
        "7f8de59a76754064bfb6e782058abf79": {
          "model_module": "@jupyter-widgets/controls",
          "model_name": "IntProgressModel",
          "state": {
            "_view_name": "ProgressView",
            "style": "IPY_MODEL_c2c3191d2d0a4f4c8fb5a9c1f97d4ce3",
            "_dom_classes": [],
            "description": "",
            "_model_name": "IntProgressModel",
            "bar_style": "success",
            "max": 1,
            "_view_module": "@jupyter-widgets/controls",
            "_model_module_version": "1.5.0",
            "value": 1,
            "_view_count": null,
            "_view_module_version": "1.5.0",
            "orientation": "horizontal",
            "min": 0,
            "description_tooltip": null,
            "_model_module": "@jupyter-widgets/controls",
            "layout": "IPY_MODEL_1f3e83bc03404c3f9bd3033aa618c79c"
          }
        },
        "a8c631dd3fb946beb67025763a0d41cf": {
          "model_module": "@jupyter-widgets/controls",
          "model_name": "HTMLModel",
          "state": {
            "_view_name": "HTMLView",
            "style": "IPY_MODEL_4e0089c7e6b54169a495aa3f3654a0eb",
            "_dom_classes": [],
            "description": "",
            "_model_name": "HTMLModel",
            "placeholder": "​",
            "_view_module": "@jupyter-widgets/controls",
            "_model_module_version": "1.5.0",
            "value": "9920512it [00:03, 3206681.05it/s]",
            "_view_count": null,
            "_view_module_version": "1.5.0",
            "description_tooltip": null,
            "_model_module": "@jupyter-widgets/controls",
            "layout": "IPY_MODEL_02aec91c9a5d468b9ced33209df29599"
          }
        },
        "c2c3191d2d0a4f4c8fb5a9c1f97d4ce3": {
          "model_module": "@jupyter-widgets/controls",
          "model_name": "ProgressStyleModel",
          "state": {
            "_view_name": "StyleView",
            "_model_name": "ProgressStyleModel",
            "description_width": "",
            "_view_module": "@jupyter-widgets/base",
            "_model_module_version": "1.5.0",
            "_view_count": null,
            "_view_module_version": "1.2.0",
            "bar_color": null,
            "_model_module": "@jupyter-widgets/controls"
          }
        },
        "1f3e83bc03404c3f9bd3033aa618c79c": {
          "model_module": "@jupyter-widgets/base",
          "model_name": "LayoutModel",
          "state": {
            "_view_name": "LayoutView",
            "grid_template_rows": null,
            "right": null,
            "justify_content": null,
            "_view_module": "@jupyter-widgets/base",
            "overflow": null,
            "_model_module_version": "1.2.0",
            "_view_count": null,
            "flex_flow": null,
            "width": null,
            "min_width": null,
            "border": null,
            "align_items": null,
            "bottom": null,
            "_model_module": "@jupyter-widgets/base",
            "top": null,
            "grid_column": null,
            "overflow_y": null,
            "overflow_x": null,
            "grid_auto_flow": null,
            "grid_area": null,
            "grid_template_columns": null,
            "flex": null,
            "_model_name": "LayoutModel",
            "justify_items": null,
            "grid_row": null,
            "max_height": null,
            "align_content": null,
            "visibility": null,
            "align_self": null,
            "height": null,
            "min_height": null,
            "padding": null,
            "grid_auto_rows": null,
            "grid_gap": null,
            "max_width": null,
            "order": null,
            "_view_module_version": "1.2.0",
            "grid_template_areas": null,
            "object_position": null,
            "object_fit": null,
            "grid_auto_columns": null,
            "margin": null,
            "display": null,
            "left": null
          }
        },
        "4e0089c7e6b54169a495aa3f3654a0eb": {
          "model_module": "@jupyter-widgets/controls",
          "model_name": "DescriptionStyleModel",
          "state": {
            "_view_name": "StyleView",
            "_model_name": "DescriptionStyleModel",
            "description_width": "",
            "_view_module": "@jupyter-widgets/base",
            "_model_module_version": "1.5.0",
            "_view_count": null,
            "_view_module_version": "1.2.0",
            "_model_module": "@jupyter-widgets/controls"
          }
        },
        "02aec91c9a5d468b9ced33209df29599": {
          "model_module": "@jupyter-widgets/base",
          "model_name": "LayoutModel",
          "state": {
            "_view_name": "LayoutView",
            "grid_template_rows": null,
            "right": null,
            "justify_content": null,
            "_view_module": "@jupyter-widgets/base",
            "overflow": null,
            "_model_module_version": "1.2.0",
            "_view_count": null,
            "flex_flow": null,
            "width": null,
            "min_width": null,
            "border": null,
            "align_items": null,
            "bottom": null,
            "_model_module": "@jupyter-widgets/base",
            "top": null,
            "grid_column": null,
            "overflow_y": null,
            "overflow_x": null,
            "grid_auto_flow": null,
            "grid_area": null,
            "grid_template_columns": null,
            "flex": null,
            "_model_name": "LayoutModel",
            "justify_items": null,
            "grid_row": null,
            "max_height": null,
            "align_content": null,
            "visibility": null,
            "align_self": null,
            "height": null,
            "min_height": null,
            "padding": null,
            "grid_auto_rows": null,
            "grid_gap": null,
            "max_width": null,
            "order": null,
            "_view_module_version": "1.2.0",
            "grid_template_areas": null,
            "object_position": null,
            "object_fit": null,
            "grid_auto_columns": null,
            "margin": null,
            "display": null,
            "left": null
          }
        },
        "ce888bb9767d46448d43dec16c17523c": {
          "model_module": "@jupyter-widgets/controls",
          "model_name": "HBoxModel",
          "state": {
            "_view_name": "HBoxView",
            "_dom_classes": [],
            "_model_name": "HBoxModel",
            "_view_module": "@jupyter-widgets/controls",
            "_model_module_version": "1.5.0",
            "_view_count": null,
            "_view_module_version": "1.5.0",
            "box_style": "",
            "layout": "IPY_MODEL_5250c5a815e0470db90f4368fde079e0",
            "_model_module": "@jupyter-widgets/controls",
            "children": [
              "IPY_MODEL_f0f263c2bff040839a52716900b8b754",
              "IPY_MODEL_6dc9304fb8584b27bdc9e4583c138d7f"
            ]
          }
        },
        "5250c5a815e0470db90f4368fde079e0": {
          "model_module": "@jupyter-widgets/base",
          "model_name": "LayoutModel",
          "state": {
            "_view_name": "LayoutView",
            "grid_template_rows": null,
            "right": null,
            "justify_content": null,
            "_view_module": "@jupyter-widgets/base",
            "overflow": null,
            "_model_module_version": "1.2.0",
            "_view_count": null,
            "flex_flow": null,
            "width": null,
            "min_width": null,
            "border": null,
            "align_items": null,
            "bottom": null,
            "_model_module": "@jupyter-widgets/base",
            "top": null,
            "grid_column": null,
            "overflow_y": null,
            "overflow_x": null,
            "grid_auto_flow": null,
            "grid_area": null,
            "grid_template_columns": null,
            "flex": null,
            "_model_name": "LayoutModel",
            "justify_items": null,
            "grid_row": null,
            "max_height": null,
            "align_content": null,
            "visibility": null,
            "align_self": null,
            "height": null,
            "min_height": null,
            "padding": null,
            "grid_auto_rows": null,
            "grid_gap": null,
            "max_width": null,
            "order": null,
            "_view_module_version": "1.2.0",
            "grid_template_areas": null,
            "object_position": null,
            "object_fit": null,
            "grid_auto_columns": null,
            "margin": null,
            "display": null,
            "left": null
          }
        },
        "f0f263c2bff040839a52716900b8b754": {
          "model_module": "@jupyter-widgets/controls",
          "model_name": "IntProgressModel",
          "state": {
            "_view_name": "ProgressView",
            "style": "IPY_MODEL_2e00fd75e9f9437586756b739627b56f",
            "_dom_classes": [],
            "description": "",
            "_model_name": "IntProgressModel",
            "bar_style": "success",
            "max": 1,
            "_view_module": "@jupyter-widgets/controls",
            "_model_module_version": "1.5.0",
            "value": 1,
            "_view_count": null,
            "_view_module_version": "1.5.0",
            "orientation": "horizontal",
            "min": 0,
            "description_tooltip": null,
            "_model_module": "@jupyter-widgets/controls",
            "layout": "IPY_MODEL_17ea29d0ebe74b5f9c1cf648ec656cc8"
          }
        },
        "6dc9304fb8584b27bdc9e4583c138d7f": {
          "model_module": "@jupyter-widgets/controls",
          "model_name": "HTMLModel",
          "state": {
            "_view_name": "HTMLView",
            "style": "IPY_MODEL_1e0437d8d1b2491d9ab48bb9f26327dd",
            "_dom_classes": [],
            "description": "",
            "_model_name": "HTMLModel",
            "placeholder": "​",
            "_view_module": "@jupyter-widgets/controls",
            "_model_module_version": "1.5.0",
            "value": "32768it [00:00, 40348.16it/s]",
            "_view_count": null,
            "_view_module_version": "1.5.0",
            "description_tooltip": null,
            "_model_module": "@jupyter-widgets/controls",
            "layout": "IPY_MODEL_4cd06c2f70854fde87b419b7f4ba99a8"
          }
        },
        "2e00fd75e9f9437586756b739627b56f": {
          "model_module": "@jupyter-widgets/controls",
          "model_name": "ProgressStyleModel",
          "state": {
            "_view_name": "StyleView",
            "_model_name": "ProgressStyleModel",
            "description_width": "",
            "_view_module": "@jupyter-widgets/base",
            "_model_module_version": "1.5.0",
            "_view_count": null,
            "_view_module_version": "1.2.0",
            "bar_color": null,
            "_model_module": "@jupyter-widgets/controls"
          }
        },
        "17ea29d0ebe74b5f9c1cf648ec656cc8": {
          "model_module": "@jupyter-widgets/base",
          "model_name": "LayoutModel",
          "state": {
            "_view_name": "LayoutView",
            "grid_template_rows": null,
            "right": null,
            "justify_content": null,
            "_view_module": "@jupyter-widgets/base",
            "overflow": null,
            "_model_module_version": "1.2.0",
            "_view_count": null,
            "flex_flow": null,
            "width": null,
            "min_width": null,
            "border": null,
            "align_items": null,
            "bottom": null,
            "_model_module": "@jupyter-widgets/base",
            "top": null,
            "grid_column": null,
            "overflow_y": null,
            "overflow_x": null,
            "grid_auto_flow": null,
            "grid_area": null,
            "grid_template_columns": null,
            "flex": null,
            "_model_name": "LayoutModel",
            "justify_items": null,
            "grid_row": null,
            "max_height": null,
            "align_content": null,
            "visibility": null,
            "align_self": null,
            "height": null,
            "min_height": null,
            "padding": null,
            "grid_auto_rows": null,
            "grid_gap": null,
            "max_width": null,
            "order": null,
            "_view_module_version": "1.2.0",
            "grid_template_areas": null,
            "object_position": null,
            "object_fit": null,
            "grid_auto_columns": null,
            "margin": null,
            "display": null,
            "left": null
          }
        },
        "1e0437d8d1b2491d9ab48bb9f26327dd": {
          "model_module": "@jupyter-widgets/controls",
          "model_name": "DescriptionStyleModel",
          "state": {
            "_view_name": "StyleView",
            "_model_name": "DescriptionStyleModel",
            "description_width": "",
            "_view_module": "@jupyter-widgets/base",
            "_model_module_version": "1.5.0",
            "_view_count": null,
            "_view_module_version": "1.2.0",
            "_model_module": "@jupyter-widgets/controls"
          }
        },
        "4cd06c2f70854fde87b419b7f4ba99a8": {
          "model_module": "@jupyter-widgets/base",
          "model_name": "LayoutModel",
          "state": {
            "_view_name": "LayoutView",
            "grid_template_rows": null,
            "right": null,
            "justify_content": null,
            "_view_module": "@jupyter-widgets/base",
            "overflow": null,
            "_model_module_version": "1.2.0",
            "_view_count": null,
            "flex_flow": null,
            "width": null,
            "min_width": null,
            "border": null,
            "align_items": null,
            "bottom": null,
            "_model_module": "@jupyter-widgets/base",
            "top": null,
            "grid_column": null,
            "overflow_y": null,
            "overflow_x": null,
            "grid_auto_flow": null,
            "grid_area": null,
            "grid_template_columns": null,
            "flex": null,
            "_model_name": "LayoutModel",
            "justify_items": null,
            "grid_row": null,
            "max_height": null,
            "align_content": null,
            "visibility": null,
            "align_self": null,
            "height": null,
            "min_height": null,
            "padding": null,
            "grid_auto_rows": null,
            "grid_gap": null,
            "max_width": null,
            "order": null,
            "_view_module_version": "1.2.0",
            "grid_template_areas": null,
            "object_position": null,
            "object_fit": null,
            "grid_auto_columns": null,
            "margin": null,
            "display": null,
            "left": null
          }
        },
        "d0e211099517458e87e96447f6d3e7cd": {
          "model_module": "@jupyter-widgets/controls",
          "model_name": "HBoxModel",
          "state": {
            "_view_name": "HBoxView",
            "_dom_classes": [],
            "_model_name": "HBoxModel",
            "_view_module": "@jupyter-widgets/controls",
            "_model_module_version": "1.5.0",
            "_view_count": null,
            "_view_module_version": "1.5.0",
            "box_style": "",
            "layout": "IPY_MODEL_76d268ac367a41f09d25c5c9ae32755d",
            "_model_module": "@jupyter-widgets/controls",
            "children": [
              "IPY_MODEL_8ed04a563bcf47d6a632b48c39d7a41d",
              "IPY_MODEL_c892534c1439486da0ef5ca25d61011b"
            ]
          }
        },
        "76d268ac367a41f09d25c5c9ae32755d": {
          "model_module": "@jupyter-widgets/base",
          "model_name": "LayoutModel",
          "state": {
            "_view_name": "LayoutView",
            "grid_template_rows": null,
            "right": null,
            "justify_content": null,
            "_view_module": "@jupyter-widgets/base",
            "overflow": null,
            "_model_module_version": "1.2.0",
            "_view_count": null,
            "flex_flow": null,
            "width": null,
            "min_width": null,
            "border": null,
            "align_items": null,
            "bottom": null,
            "_model_module": "@jupyter-widgets/base",
            "top": null,
            "grid_column": null,
            "overflow_y": null,
            "overflow_x": null,
            "grid_auto_flow": null,
            "grid_area": null,
            "grid_template_columns": null,
            "flex": null,
            "_model_name": "LayoutModel",
            "justify_items": null,
            "grid_row": null,
            "max_height": null,
            "align_content": null,
            "visibility": null,
            "align_self": null,
            "height": null,
            "min_height": null,
            "padding": null,
            "grid_auto_rows": null,
            "grid_gap": null,
            "max_width": null,
            "order": null,
            "_view_module_version": "1.2.0",
            "grid_template_areas": null,
            "object_position": null,
            "object_fit": null,
            "grid_auto_columns": null,
            "margin": null,
            "display": null,
            "left": null
          }
        },
        "8ed04a563bcf47d6a632b48c39d7a41d": {
          "model_module": "@jupyter-widgets/controls",
          "model_name": "IntProgressModel",
          "state": {
            "_view_name": "ProgressView",
            "style": "IPY_MODEL_92590a76c2f04ca28ad55173595e4174",
            "_dom_classes": [],
            "description": "",
            "_model_name": "IntProgressModel",
            "bar_style": "success",
            "max": 1,
            "_view_module": "@jupyter-widgets/controls",
            "_model_module_version": "1.5.0",
            "value": 1,
            "_view_count": null,
            "_view_module_version": "1.5.0",
            "orientation": "horizontal",
            "min": 0,
            "description_tooltip": null,
            "_model_module": "@jupyter-widgets/controls",
            "layout": "IPY_MODEL_1fdb68a952eb451a84ebae2f5b22ab50"
          }
        },
        "c892534c1439486da0ef5ca25d61011b": {
          "model_module": "@jupyter-widgets/controls",
          "model_name": "HTMLModel",
          "state": {
            "_view_name": "HTMLView",
            "style": "IPY_MODEL_1c84af33cf5a4eef9dc8fa4f6951903b",
            "_dom_classes": [],
            "description": "",
            "_model_name": "HTMLModel",
            "placeholder": "​",
            "_view_module": "@jupyter-widgets/controls",
            "_model_module_version": "1.5.0",
            "value": "1654784it [00:02, 698158.90it/s]",
            "_view_count": null,
            "_view_module_version": "1.5.0",
            "description_tooltip": null,
            "_model_module": "@jupyter-widgets/controls",
            "layout": "IPY_MODEL_fdd68094c71e45f2a07172c5b28b80db"
          }
        },
        "92590a76c2f04ca28ad55173595e4174": {
          "model_module": "@jupyter-widgets/controls",
          "model_name": "ProgressStyleModel",
          "state": {
            "_view_name": "StyleView",
            "_model_name": "ProgressStyleModel",
            "description_width": "",
            "_view_module": "@jupyter-widgets/base",
            "_model_module_version": "1.5.0",
            "_view_count": null,
            "_view_module_version": "1.2.0",
            "bar_color": null,
            "_model_module": "@jupyter-widgets/controls"
          }
        },
        "1fdb68a952eb451a84ebae2f5b22ab50": {
          "model_module": "@jupyter-widgets/base",
          "model_name": "LayoutModel",
          "state": {
            "_view_name": "LayoutView",
            "grid_template_rows": null,
            "right": null,
            "justify_content": null,
            "_view_module": "@jupyter-widgets/base",
            "overflow": null,
            "_model_module_version": "1.2.0",
            "_view_count": null,
            "flex_flow": null,
            "width": null,
            "min_width": null,
            "border": null,
            "align_items": null,
            "bottom": null,
            "_model_module": "@jupyter-widgets/base",
            "top": null,
            "grid_column": null,
            "overflow_y": null,
            "overflow_x": null,
            "grid_auto_flow": null,
            "grid_area": null,
            "grid_template_columns": null,
            "flex": null,
            "_model_name": "LayoutModel",
            "justify_items": null,
            "grid_row": null,
            "max_height": null,
            "align_content": null,
            "visibility": null,
            "align_self": null,
            "height": null,
            "min_height": null,
            "padding": null,
            "grid_auto_rows": null,
            "grid_gap": null,
            "max_width": null,
            "order": null,
            "_view_module_version": "1.2.0",
            "grid_template_areas": null,
            "object_position": null,
            "object_fit": null,
            "grid_auto_columns": null,
            "margin": null,
            "display": null,
            "left": null
          }
        },
        "1c84af33cf5a4eef9dc8fa4f6951903b": {
          "model_module": "@jupyter-widgets/controls",
          "model_name": "DescriptionStyleModel",
          "state": {
            "_view_name": "StyleView",
            "_model_name": "DescriptionStyleModel",
            "description_width": "",
            "_view_module": "@jupyter-widgets/base",
            "_model_module_version": "1.5.0",
            "_view_count": null,
            "_view_module_version": "1.2.0",
            "_model_module": "@jupyter-widgets/controls"
          }
        },
        "fdd68094c71e45f2a07172c5b28b80db": {
          "model_module": "@jupyter-widgets/base",
          "model_name": "LayoutModel",
          "state": {
            "_view_name": "LayoutView",
            "grid_template_rows": null,
            "right": null,
            "justify_content": null,
            "_view_module": "@jupyter-widgets/base",
            "overflow": null,
            "_model_module_version": "1.2.0",
            "_view_count": null,
            "flex_flow": null,
            "width": null,
            "min_width": null,
            "border": null,
            "align_items": null,
            "bottom": null,
            "_model_module": "@jupyter-widgets/base",
            "top": null,
            "grid_column": null,
            "overflow_y": null,
            "overflow_x": null,
            "grid_auto_flow": null,
            "grid_area": null,
            "grid_template_columns": null,
            "flex": null,
            "_model_name": "LayoutModel",
            "justify_items": null,
            "grid_row": null,
            "max_height": null,
            "align_content": null,
            "visibility": null,
            "align_self": null,
            "height": null,
            "min_height": null,
            "padding": null,
            "grid_auto_rows": null,
            "grid_gap": null,
            "max_width": null,
            "order": null,
            "_view_module_version": "1.2.0",
            "grid_template_areas": null,
            "object_position": null,
            "object_fit": null,
            "grid_auto_columns": null,
            "margin": null,
            "display": null,
            "left": null
          }
        },
        "f2d002602cb44ff5b2c0390d1458440b": {
          "model_module": "@jupyter-widgets/controls",
          "model_name": "HBoxModel",
          "state": {
            "_view_name": "HBoxView",
            "_dom_classes": [],
            "_model_name": "HBoxModel",
            "_view_module": "@jupyter-widgets/controls",
            "_model_module_version": "1.5.0",
            "_view_count": null,
            "_view_module_version": "1.5.0",
            "box_style": "",
            "layout": "IPY_MODEL_90886a1bc133492abc58798e82cfc234",
            "_model_module": "@jupyter-widgets/controls",
            "children": [
              "IPY_MODEL_0e12bfac33934e2cbea78de91367b4f9",
              "IPY_MODEL_1ebc17a9132e4b1dac3d274a83faf394"
            ]
          }
        },
        "90886a1bc133492abc58798e82cfc234": {
          "model_module": "@jupyter-widgets/base",
          "model_name": "LayoutModel",
          "state": {
            "_view_name": "LayoutView",
            "grid_template_rows": null,
            "right": null,
            "justify_content": null,
            "_view_module": "@jupyter-widgets/base",
            "overflow": null,
            "_model_module_version": "1.2.0",
            "_view_count": null,
            "flex_flow": null,
            "width": null,
            "min_width": null,
            "border": null,
            "align_items": null,
            "bottom": null,
            "_model_module": "@jupyter-widgets/base",
            "top": null,
            "grid_column": null,
            "overflow_y": null,
            "overflow_x": null,
            "grid_auto_flow": null,
            "grid_area": null,
            "grid_template_columns": null,
            "flex": null,
            "_model_name": "LayoutModel",
            "justify_items": null,
            "grid_row": null,
            "max_height": null,
            "align_content": null,
            "visibility": null,
            "align_self": null,
            "height": null,
            "min_height": null,
            "padding": null,
            "grid_auto_rows": null,
            "grid_gap": null,
            "max_width": null,
            "order": null,
            "_view_module_version": "1.2.0",
            "grid_template_areas": null,
            "object_position": null,
            "object_fit": null,
            "grid_auto_columns": null,
            "margin": null,
            "display": null,
            "left": null
          }
        },
        "0e12bfac33934e2cbea78de91367b4f9": {
          "model_module": "@jupyter-widgets/controls",
          "model_name": "IntProgressModel",
          "state": {
            "_view_name": "ProgressView",
            "style": "IPY_MODEL_2e3e0045c2e24579bc003a7217aa93fb",
            "_dom_classes": [],
            "description": "",
            "_model_name": "IntProgressModel",
            "bar_style": "success",
            "max": 1,
            "_view_module": "@jupyter-widgets/controls",
            "_model_module_version": "1.5.0",
            "value": 1,
            "_view_count": null,
            "_view_module_version": "1.5.0",
            "orientation": "horizontal",
            "min": 0,
            "description_tooltip": null,
            "_model_module": "@jupyter-widgets/controls",
            "layout": "IPY_MODEL_d9b3b4f4014142959e93d1cafaa14c5d"
          }
        },
        "1ebc17a9132e4b1dac3d274a83faf394": {
          "model_module": "@jupyter-widgets/controls",
          "model_name": "HTMLModel",
          "state": {
            "_view_name": "HTMLView",
            "style": "IPY_MODEL_72b6652f2c5844b1b0212cdb5c1c249e",
            "_dom_classes": [],
            "description": "",
            "_model_name": "HTMLModel",
            "placeholder": "​",
            "_view_module": "@jupyter-widgets/controls",
            "_model_module_version": "1.5.0",
            "value": "8192it [00:00, 14991.02it/s]",
            "_view_count": null,
            "_view_module_version": "1.5.0",
            "description_tooltip": null,
            "_model_module": "@jupyter-widgets/controls",
            "layout": "IPY_MODEL_85c7dae6c7ae4a2e9bf153283551592a"
          }
        },
        "2e3e0045c2e24579bc003a7217aa93fb": {
          "model_module": "@jupyter-widgets/controls",
          "model_name": "ProgressStyleModel",
          "state": {
            "_view_name": "StyleView",
            "_model_name": "ProgressStyleModel",
            "description_width": "",
            "_view_module": "@jupyter-widgets/base",
            "_model_module_version": "1.5.0",
            "_view_count": null,
            "_view_module_version": "1.2.0",
            "bar_color": null,
            "_model_module": "@jupyter-widgets/controls"
          }
        },
        "d9b3b4f4014142959e93d1cafaa14c5d": {
          "model_module": "@jupyter-widgets/base",
          "model_name": "LayoutModel",
          "state": {
            "_view_name": "LayoutView",
            "grid_template_rows": null,
            "right": null,
            "justify_content": null,
            "_view_module": "@jupyter-widgets/base",
            "overflow": null,
            "_model_module_version": "1.2.0",
            "_view_count": null,
            "flex_flow": null,
            "width": null,
            "min_width": null,
            "border": null,
            "align_items": null,
            "bottom": null,
            "_model_module": "@jupyter-widgets/base",
            "top": null,
            "grid_column": null,
            "overflow_y": null,
            "overflow_x": null,
            "grid_auto_flow": null,
            "grid_area": null,
            "grid_template_columns": null,
            "flex": null,
            "_model_name": "LayoutModel",
            "justify_items": null,
            "grid_row": null,
            "max_height": null,
            "align_content": null,
            "visibility": null,
            "align_self": null,
            "height": null,
            "min_height": null,
            "padding": null,
            "grid_auto_rows": null,
            "grid_gap": null,
            "max_width": null,
            "order": null,
            "_view_module_version": "1.2.0",
            "grid_template_areas": null,
            "object_position": null,
            "object_fit": null,
            "grid_auto_columns": null,
            "margin": null,
            "display": null,
            "left": null
          }
        },
        "72b6652f2c5844b1b0212cdb5c1c249e": {
          "model_module": "@jupyter-widgets/controls",
          "model_name": "DescriptionStyleModel",
          "state": {
            "_view_name": "StyleView",
            "_model_name": "DescriptionStyleModel",
            "description_width": "",
            "_view_module": "@jupyter-widgets/base",
            "_model_module_version": "1.5.0",
            "_view_count": null,
            "_view_module_version": "1.2.0",
            "_model_module": "@jupyter-widgets/controls"
          }
        },
        "85c7dae6c7ae4a2e9bf153283551592a": {
          "model_module": "@jupyter-widgets/base",
          "model_name": "LayoutModel",
          "state": {
            "_view_name": "LayoutView",
            "grid_template_rows": null,
            "right": null,
            "justify_content": null,
            "_view_module": "@jupyter-widgets/base",
            "overflow": null,
            "_model_module_version": "1.2.0",
            "_view_count": null,
            "flex_flow": null,
            "width": null,
            "min_width": null,
            "border": null,
            "align_items": null,
            "bottom": null,
            "_model_module": "@jupyter-widgets/base",
            "top": null,
            "grid_column": null,
            "overflow_y": null,
            "overflow_x": null,
            "grid_auto_flow": null,
            "grid_area": null,
            "grid_template_columns": null,
            "flex": null,
            "_model_name": "LayoutModel",
            "justify_items": null,
            "grid_row": null,
            "max_height": null,
            "align_content": null,
            "visibility": null,
            "align_self": null,
            "height": null,
            "min_height": null,
            "padding": null,
            "grid_auto_rows": null,
            "grid_gap": null,
            "max_width": null,
            "order": null,
            "_view_module_version": "1.2.0",
            "grid_template_areas": null,
            "object_position": null,
            "object_fit": null,
            "grid_auto_columns": null,
            "margin": null,
            "display": null,
            "left": null
          }
        }
      }
    }
  },
  "cells": [
    {
      "cell_type": "markdown",
      "metadata": {
        "id": "view-in-github",
        "colab_type": "text"
      },
      "source": [
        "<a href=\"https://colab.research.google.com/github/dganguli/tlon/blob/master/train_models.ipynb\" target=\"_parent\"><img src=\"https://colab.research.google.com/assets/colab-badge.svg\" alt=\"Open In Colab\"/></a>"
      ]
    },
    {
      "cell_type": "code",
      "metadata": {
        "id": "KCR7k8ahvCE3",
        "colab_type": "code",
        "outputId": "a8889128-7030-4db2-e138-25905c08df49",
        "colab": {
          "base_uri": "https://localhost:8080/",
          "height": 68
        }
      },
      "source": [
        "import pandas as pd\n",
        "import seaborn as sns\n",
        "import numpy as np\n",
        "import time\n",
        "import torch\n",
        "\n",
        "import matplotlib.pyplot as plt\n",
        "\n",
        "print(\"torch cuda is available: {}\".format(torch.cuda.is_available()))\n",
        "print(\"number of gpus: {}\".format(torch.cuda.device_count()))\n",
        "print(\"1st gpu is of type: {}\".format(torch.cuda.get_device_name(0)))"
      ],
      "execution_count": 1,
      "outputs": [
        {
          "output_type": "stream",
          "text": [
            "torch cuda is available: True\n",
            "number of gpus: 1\n",
            "1st gpu is of type: Tesla P4\n"
          ],
          "name": "stdout"
        }
      ]
    },
    {
      "cell_type": "code",
      "metadata": {
        "id": "SAjWm78F06S-",
        "colab_type": "code",
        "outputId": "545f0464-f455-4399-f11e-13526a876be2",
        "colab": {
          "base_uri": "https://localhost:8080/",
          "height": 153
        }
      },
      "source": [
        "import sys\n",
        "! git clone https://github.com/dganguli/tlon.git\n",
        "%cd /content/tlon/\n",
        "! git pull\n",
        "sys.path.append('/content/tlon')\n",
        "\n",
        "!pip install showit"
      ],
      "execution_count": 2,
      "outputs": [
        {
          "output_type": "stream",
          "text": [
            "Cloning into 'tlon'...\n",
            "remote: Enumerating objects: 70, done.\u001b[K\n",
            "remote: Counting objects: 100% (70/70), done.\u001b[K\n",
            "remote: Compressing objects: 100% (50/50), done.\u001b[K\n",
            "remote: Total 70 (delta 40), reused 43 (delta 20), pack-reused 0\u001b[K\n",
            "Unpacking objects: 100% (70/70), done.\n",
            "/content/tlon\n",
            "Already up to date.\n"
          ],
          "name": "stdout"
        }
      ]
    },
    {
      "cell_type": "markdown",
      "metadata": {
        "id": "0k90PIXV-U7L",
        "colab_type": "text"
      },
      "source": [
        "# Download MNIST training data"
      ]
    },
    {
      "cell_type": "code",
      "metadata": {
        "id": "z-73V6zuwAeS",
        "colab_type": "code",
        "outputId": "e8c44270-d672-4558-ba2e-bfa2ebfc7f8d",
        "colab": {
          "base_uri": "https://localhost:8080/",
          "height": 403,
          "referenced_widgets": [
            "bf3fd4c23bd74ef9908026cb278df384",
            "8377c9b5d4ff4af8909c050aa92c825b",
            "7f8de59a76754064bfb6e782058abf79",
            "a8c631dd3fb946beb67025763a0d41cf",
            "c2c3191d2d0a4f4c8fb5a9c1f97d4ce3",
            "1f3e83bc03404c3f9bd3033aa618c79c",
            "4e0089c7e6b54169a495aa3f3654a0eb",
            "02aec91c9a5d468b9ced33209df29599",
            "ce888bb9767d46448d43dec16c17523c",
            "5250c5a815e0470db90f4368fde079e0",
            "f0f263c2bff040839a52716900b8b754",
            "6dc9304fb8584b27bdc9e4583c138d7f",
            "2e00fd75e9f9437586756b739627b56f",
            "17ea29d0ebe74b5f9c1cf648ec656cc8",
            "1e0437d8d1b2491d9ab48bb9f26327dd",
            "4cd06c2f70854fde87b419b7f4ba99a8",
            "d0e211099517458e87e96447f6d3e7cd",
            "76d268ac367a41f09d25c5c9ae32755d",
            "8ed04a563bcf47d6a632b48c39d7a41d",
            "c892534c1439486da0ef5ca25d61011b",
            "92590a76c2f04ca28ad55173595e4174",
            "1fdb68a952eb451a84ebae2f5b22ab50",
            "1c84af33cf5a4eef9dc8fa4f6951903b",
            "fdd68094c71e45f2a07172c5b28b80db",
            "f2d002602cb44ff5b2c0390d1458440b",
            "90886a1bc133492abc58798e82cfc234",
            "0e12bfac33934e2cbea78de91367b4f9",
            "1ebc17a9132e4b1dac3d274a83faf394",
            "2e3e0045c2e24579bc003a7217aa93fb",
            "d9b3b4f4014142959e93d1cafaa14c5d",
            "72b6652f2c5844b1b0212cdb5c1c249e",
            "85c7dae6c7ae4a2e9bf153283551592a"
          ]
        }
      },
      "source": [
        "from data import load_mnist\n",
        "from cnn import CNNTrainer\n",
        "\n",
        "random_seed = 1\n",
        "torch.manual_seed(random_seed)\n",
        "\n",
        "train_loader, test_loader = load_mnist('/tmp')"
      ],
      "execution_count": 3,
      "outputs": [
        {
          "output_type": "stream",
          "text": [
            "Downloading http://yann.lecun.com/exdb/mnist/train-images-idx3-ubyte.gz to /tmp/MNIST/raw/train-images-idx3-ubyte.gz\n"
          ],
          "name": "stdout"
        },
        {
          "output_type": "display_data",
          "data": {
            "application/vnd.jupyter.widget-view+json": {
              "model_id": "bf3fd4c23bd74ef9908026cb278df384",
              "version_minor": 0,
              "version_major": 2
            },
            "text/plain": [
              "HBox(children=(IntProgress(value=1, bar_style='info', max=1), HTML(value='')))"
            ]
          },
          "metadata": {
            "tags": []
          }
        },
        {
          "output_type": "stream",
          "text": [
            "\n",
            "Extracting /tmp/MNIST/raw/train-images-idx3-ubyte.gz to /tmp/MNIST/raw\n",
            "Downloading http://yann.lecun.com/exdb/mnist/train-labels-idx1-ubyte.gz to /tmp/MNIST/raw/train-labels-idx1-ubyte.gz\n"
          ],
          "name": "stdout"
        },
        {
          "output_type": "display_data",
          "data": {
            "application/vnd.jupyter.widget-view+json": {
              "model_id": "ce888bb9767d46448d43dec16c17523c",
              "version_minor": 0,
              "version_major": 2
            },
            "text/plain": [
              "HBox(children=(IntProgress(value=1, bar_style='info', max=1), HTML(value='')))"
            ]
          },
          "metadata": {
            "tags": []
          }
        },
        {
          "output_type": "stream",
          "text": [
            "\n",
            "Extracting /tmp/MNIST/raw/train-labels-idx1-ubyte.gz to /tmp/MNIST/raw\n",
            "Downloading http://yann.lecun.com/exdb/mnist/t10k-images-idx3-ubyte.gz to /tmp/MNIST/raw/t10k-images-idx3-ubyte.gz\n"
          ],
          "name": "stdout"
        },
        {
          "output_type": "display_data",
          "data": {
            "application/vnd.jupyter.widget-view+json": {
              "model_id": "d0e211099517458e87e96447f6d3e7cd",
              "version_minor": 0,
              "version_major": 2
            },
            "text/plain": [
              "HBox(children=(IntProgress(value=1, bar_style='info', max=1), HTML(value='')))"
            ]
          },
          "metadata": {
            "tags": []
          }
        },
        {
          "output_type": "stream",
          "text": [
            "\n",
            "Extracting /tmp/MNIST/raw/t10k-images-idx3-ubyte.gz to /tmp/MNIST/raw\n",
            "Downloading http://yann.lecun.com/exdb/mnist/t10k-labels-idx1-ubyte.gz to /tmp/MNIST/raw/t10k-labels-idx1-ubyte.gz\n"
          ],
          "name": "stdout"
        },
        {
          "output_type": "display_data",
          "data": {
            "application/vnd.jupyter.widget-view+json": {
              "model_id": "f2d002602cb44ff5b2c0390d1458440b",
              "version_minor": 0,
              "version_major": 2
            },
            "text/plain": [
              "HBox(children=(IntProgress(value=1, bar_style='info', max=1), HTML(value='')))"
            ]
          },
          "metadata": {
            "tags": []
          }
        },
        {
          "output_type": "stream",
          "text": [
            "\n",
            "Extracting /tmp/MNIST/raw/t10k-labels-idx1-ubyte.gz to /tmp/MNIST/raw\n",
            "Processing...\n",
            "Done!\n"
          ],
          "name": "stdout"
        }
      ]
    },
    {
      "cell_type": "markdown",
      "metadata": {
        "id": "atUkLfvk-ccF",
        "colab_type": "text"
      },
      "source": [
        "# Train a CNN on MNIST data"
      ]
    },
    {
      "cell_type": "code",
      "metadata": {
        "id": "joGXFwj6lSfQ",
        "colab_type": "code",
        "colab": {
          "base_uri": "https://localhost:8080/",
          "height": 748
        },
        "outputId": "45e0a699-1798-47e8-f3ab-e5c2cb492fc4"
      },
      "source": [
        "trainer = CNNTrainer(train_loader, test_loader, save_path='/tmp')\n",
        "\n",
        "start = time.time()\n",
        "trainer.train(log_interval=100)\n",
        "elapsed = time.time()\n",
        "total = elapsed-start\n",
        "print(\"time elapsed: {} seconds\".format(total))"
      ],
      "execution_count": 4,
      "outputs": [
        {
          "output_type": "stream",
          "text": [
            "\n",
            "Test set: Avg. loss: 2.3169, Accuracy: 1135/10000 (11%)\n",
            "\n",
            "Train Epoch: 1 [0/60000 (0%)]\tLoss: 2.329414\n",
            "Train Epoch: 1 [6400/60000 (11%)]\tLoss: 2.266129\n",
            "Train Epoch: 1 [12800/60000 (21%)]\tLoss: 1.964775\n",
            "Train Epoch: 1 [19200/60000 (32%)]\tLoss: 1.494709\n",
            "Train Epoch: 1 [25600/60000 (43%)]\tLoss: 1.125933\n",
            "Train Epoch: 1 [32000/60000 (53%)]\tLoss: 0.888893\n",
            "Train Epoch: 1 [38400/60000 (64%)]\tLoss: 0.664678\n",
            "Train Epoch: 1 [44800/60000 (75%)]\tLoss: 0.653600\n",
            "Train Epoch: 1 [51200/60000 (85%)]\tLoss: 0.502370\n",
            "Train Epoch: 1 [57600/60000 (96%)]\tLoss: 0.378535\n",
            "\n",
            "Test set: Avg. loss: 0.2433, Accuracy: 9289/10000 (93%)\n",
            "\n",
            "Train Epoch: 2 [0/60000 (0%)]\tLoss: 0.489649\n",
            "Train Epoch: 2 [6400/60000 (11%)]\tLoss: 0.394803\n",
            "Train Epoch: 2 [12800/60000 (21%)]\tLoss: 0.387795\n",
            "Train Epoch: 2 [19200/60000 (32%)]\tLoss: 0.447119\n",
            "Train Epoch: 2 [25600/60000 (43%)]\tLoss: 0.196728\n",
            "Train Epoch: 2 [32000/60000 (53%)]\tLoss: 0.256128\n",
            "Train Epoch: 2 [38400/60000 (64%)]\tLoss: 0.465257\n",
            "Train Epoch: 2 [44800/60000 (75%)]\tLoss: 0.229537\n",
            "Train Epoch: 2 [51200/60000 (85%)]\tLoss: 0.309014\n",
            "Train Epoch: 2 [57600/60000 (96%)]\tLoss: 0.417797\n",
            "\n",
            "Test set: Avg. loss: 0.1293, Accuracy: 9602/10000 (96%)\n",
            "\n",
            "Train Epoch: 3 [0/60000 (0%)]\tLoss: 0.186392\n",
            "Train Epoch: 3 [6400/60000 (11%)]\tLoss: 0.313497\n",
            "Train Epoch: 3 [12800/60000 (21%)]\tLoss: 0.390508\n",
            "Train Epoch: 3 [19200/60000 (32%)]\tLoss: 0.440428\n",
            "Train Epoch: 3 [25600/60000 (43%)]\tLoss: 0.334370\n",
            "Train Epoch: 3 [32000/60000 (53%)]\tLoss: 0.450199\n",
            "Train Epoch: 3 [38400/60000 (64%)]\tLoss: 0.298828\n",
            "Train Epoch: 3 [44800/60000 (75%)]\tLoss: 0.394075\n",
            "Train Epoch: 3 [51200/60000 (85%)]\tLoss: 0.253775\n",
            "Train Epoch: 3 [57600/60000 (96%)]\tLoss: 0.209703\n",
            "\n",
            "Test set: Avg. loss: 0.0978, Accuracy: 9685/10000 (97%)\n",
            "\n",
            "time elapsed: 33.80777835845947 seconds\n"
          ],
          "name": "stdout"
        }
      ]
    },
    {
      "cell_type": "code",
      "metadata": {
        "id": "OBCsWlikXnbB",
        "colab_type": "code",
        "colab": {
          "base_uri": "https://localhost:8080/",
          "height": 335
        },
        "outputId": "d773727b-1a1c-4d71-d7f7-ff8bf27e7e8e"
      },
      "source": [
        "sns.set_context('talk')\n",
        "fig = plt.figure()\n",
        "plt.plot(trainer.train_counter, trainer.train_losses, 'k')\n",
        "plt.scatter(trainer.test_counter, trainer.test_losses, color='r')\n",
        "plt.legend(['train Loss', 'test Loss'], loc='upper right')\n",
        "plt.xlabel('number of training examples seen')\n",
        "plt.ylabel('negative log likelihood loss')\n",
        "sns.despine(offset=20)"
      ],
      "execution_count": 5,
      "outputs": [
        {
          "output_type": "display_data",
          "data": {
            "image/png": "[encoded data removed]",
            "text/plain": [
              "<Figure size 432x288 with 1 Axes>"
            ]
          },
          "metadata": {
            "tags": []
          }
        }
      ]
    },
    {
      "cell_type": "markdown",
      "metadata": {
        "id": "3JHLL3tf987i",
        "colab_type": "text"
      },
      "source": [
        "# Train a cGAN to generate synthetic data"
      ]
    },
    {
      "cell_type": "code",
      "metadata": {
        "id": "w62lc_hQdlIs",
        "colab_type": "code",
        "colab": {
          "base_uri": "https://localhost:8080/",
          "height": 391
        },
        "outputId": "b248dec8-9dcc-43fb-9e56-5658d9862e8a"
      },
      "source": [
        "from cgan import CGANTrainer\n",
        "\n",
        "trainer = CGANTrainer(train_loader, \n",
        "                      save_path='/content',\n",
        "                      n_epochs=20\n",
        "                      )\n",
        "\n",
        "start = time.time()\n",
        "trainer.train()\n",
        "elapsed = time.time()\n",
        "total = elapsed-start\n",
        "print(\"time elapsed: {} seconds\".format(total))"
      ],
      "execution_count": 47,
      "outputs": [
        {
          "output_type": "stream",
          "text": [
            "Sending models to gpu\n",
            "[Epoch 0/20] [Batch 0/938] [D loss: 0.441215] [G loss: 0.980160]\n",
            "[Epoch 1/20] [Batch 0/938] [D loss: 0.095302] [G loss: 0.513109]\n",
            "[Epoch 2/20] [Batch 0/938] [D loss: 0.162445] [G loss: 1.086180]\n",
            "[Epoch 3/20] [Batch 0/938] [D loss: 0.110111] [G loss: 0.433623]\n",
            "[Epoch 4/20] [Batch 0/938] [D loss: 0.112170] [G loss: 0.518552]\n",
            "[Epoch 5/20] [Batch 0/938] [D loss: 0.124595] [G loss: 0.555686]\n",
            "[Epoch 6/20] [Batch 0/938] [D loss: 0.161783] [G loss: 0.526571]\n",
            "[Epoch 7/20] [Batch 0/938] [D loss: 0.150223] [G loss: 0.619433]\n",
            "[Epoch 8/20] [Batch 0/938] [D loss: 0.153520] [G loss: 0.378232]\n",
            "[Epoch 9/20] [Batch 0/938] [D loss: 0.192353] [G loss: 0.286974]\n",
            "[Epoch 10/20] [Batch 0/938] [D loss: 0.192093] [G loss: 0.308936]\n",
            "[Epoch 11/20] [Batch 0/938] [D loss: 0.196790] [G loss: 0.370768]\n",
            "[Epoch 12/20] [Batch 0/938] [D loss: 0.243066] [G loss: 0.516840]\n",
            "[Epoch 13/20] [Batch 0/938] [D loss: 0.210475] [G loss: 0.539335]\n",
            "[Epoch 14/20] [Batch 0/938] [D loss: 0.225055] [G loss: 0.359935]\n",
            "[Epoch 15/20] [Batch 0/938] [D loss: 0.212443] [G loss: 0.405472]\n",
            "[Epoch 16/20] [Batch 0/938] [D loss: 0.225619] [G loss: 0.446018]\n",
            "[Epoch 17/20] [Batch 0/938] [D loss: 0.222951] [G loss: 0.347497]\n",
            "[Epoch 18/20] [Batch 0/938] [D loss: 0.232915] [G loss: 0.318641]\n",
            "[Epoch 19/20] [Batch 0/938] [D loss: 0.228385] [G loss: 0.341659]\n",
            "time elapsed: 317.8713331222534 seconds\n"
          ],
          "name": "stdout"
        }
      ]
    },
    {
      "cell_type": "markdown",
      "metadata": {
        "id": "IDRICRe-9zOQ",
        "colab_type": "text"
      },
      "source": [
        "# Visualize synthetic images from the trained cGAN"
      ]
    },
    {
      "cell_type": "code",
      "metadata": {
        "id": "-dwgQH6mojBH",
        "colab_type": "code",
        "colab": {
          "base_uri": "https://localhost:8080/",
          "height": 520
        },
        "outputId": "acaf3470-477e-4769-f981-ca7ef38be0d2"
      },
      "source": [
        "from torch.autograd import Variable\n",
        "from showit import tile\n",
        "\n",
        "cuda = True if torch.cuda.is_available() else False\n",
        "FloatTensor = torch.cuda.FloatTensor if cuda else torch.FloatTensor\n",
        "LongTensor = torch.cuda.LongTensor if cuda else torch.LongTensor\n",
        "n=10\n",
        "latent_dim=100\n",
        "\n",
        "z = Variable(FloatTensor(np.random.normal(0, 1, (n**2, latent_dim))))\n",
        "labels = np.array([num for _ in range(n) for num in range(n)])\n",
        "\n",
        "labels = Variable(LongTensor(labels))\n",
        "out = trainer.generator(z,labels)\n",
        "\n",
        "out = out.data.cpu().numpy().squeeze(axis=1)\n",
        "tile(out);"
      ],
      "execution_count": 48,
      "outputs": [
        {
          "output_type": "display_data",
          "data": {
            "image/png": "[encoded data removed]",
            "text/plain": [
              "<Figure size 648x648 with 200 Axes>"
            ]
          },
          "metadata": {
            "tags": []
          }
        }
      ]
    },
    {
      "cell_type": "code",
      "metadata": {
        "id": "ahiYVB5u9mpr",
        "colab_type": "code",
        "colab": {}
      },
      "source": [
        ""
      ],
      "execution_count": 0,
      "outputs": []
    }
  ]
}