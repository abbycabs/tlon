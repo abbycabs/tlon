{
  "nbformat": 4,
  "nbformat_minor": 0,
  "metadata": {
    "colab": {
      "name": "train_cnn_synthetic_mnist.ipynb",
      "provenance": [],
      "authorship_tag": "ABX9TyPgbXvpn0yruDMdDA/hBlgg",
      "include_colab_link": true
    },
    "kernelspec": {
      "name": "python3",
      "display_name": "Python 3"
    },
    "accelerator": "GPU"
  },
  "cells": [
    {
      "cell_type": "markdown",
      "metadata": {
        "id": "view-in-github",
        "colab_type": "text"
      },
      "source": [
        "<a href=\"https://colab.research.google.com/github/dganguli/tlon/blob/master/train_cnn_synthetic_mnist.ipynb\" target=\"_parent\"><img src=\"https://colab.research.google.com/assets/colab-badge.svg\" alt=\"Open In Colab\"/></a>"
      ]
    },
    {
      "cell_type": "code",
      "metadata": {
        "id": "U_ogaumXkGUi",
        "colab_type": "code",
        "colab": {
          "base_uri": "https://localhost:8080/",
          "height": 68
        },
        "outputId": "95accdfb-c11e-4391-8d59-d3a034e7feec"
      },
      "source": [
        "import pandas as pd\n",
        "import seaborn as sns\n",
        "import numpy as np\n",
        "import time\n",
        "import torch\n",
        "\n",
        "import matplotlib.pyplot as plt\n",
        "from torch.autograd import Variable\n",
        "\n",
        "\n",
        "print(\"torch cuda is available: {}\".format(torch.cuda.is_available()))\n",
        "print(\"number of gpus: {}\".format(torch.cuda.device_count()))\n",
        "print(\"1st gpu is of type: {}\".format(torch.cuda.get_device_name(0)))\n",
        "\n",
        "cuda = True if torch.cuda.is_available() else False"
      ],
      "execution_count": 1,
      "outputs": [
        {
          "output_type": "stream",
          "text": [
            "torch cuda is available: True\n",
            "number of gpus: 1\n",
            "1st gpu is of type: Tesla P100-PCIE-16GB\n"
          ],
          "name": "stdout"
        }
      ]
    },
    {
      "cell_type": "code",
      "metadata": {
        "id": "WTaVjjwLkSZ1",
        "colab_type": "code",
        "colab": {
          "base_uri": "https://localhost:8080/",
          "height": 479
        },
        "outputId": "fd4874e7-8229-41b4-94f7-f572831916ba"
      },
      "source": [
        "import sys\n",
        "! git clone https://github.com/dganguli/tlon.git\n",
        "%cd /content/tlon/\n",
        "! git pull\n",
        "sys.path.append('/content/tlon')\n",
        "\n",
        "!pip install showit\n",
        "from showit import image"
      ],
      "execution_count": 2,
      "outputs": [
        {
          "output_type": "stream",
          "text": [
            "Cloning into 'tlon'...\n",
            "remote: Enumerating objects: 116, done.\u001b[K\n",
            "remote: Counting objects: 100% (116/116), done.\u001b[K\n",
            "remote: Compressing objects: 100% (83/83), done.\u001b[K\n",
            "remote: Total 116 (delta 62), reused 76 (delta 33), pack-reused 0\u001b[K\n",
            "Receiving objects: 100% (116/116), 15.69 MiB | 36.86 MiB/s, done.\n",
            "Resolving deltas: 100% (62/62), done.\n",
            "/content/tlon\n",
            "Already up to date.\n",
            "Collecting showit\n",
            "  Downloading https://files.pythonhosted.org/packages/c6/be/03376c27adb7dc9315752839f602d695a61bf7a5f8ab74eee02667ed965c/showit-1.1.4.tar.gz\n",
            "Requirement already satisfied: numpy in /usr/local/lib/python3.6/dist-packages (from showit) (1.17.5)\n",
            "Requirement already satisfied: matplotlib in /usr/local/lib/python3.6/dist-packages (from showit) (3.1.3)\n",
            "Requirement already satisfied: pyparsing!=2.0.4,!=2.1.2,!=2.1.6,>=2.0.1 in /usr/local/lib/python3.6/dist-packages (from matplotlib->showit) (2.4.6)\n",
            "Requirement already satisfied: cycler>=0.10 in /usr/local/lib/python3.6/dist-packages (from matplotlib->showit) (0.10.0)\n",
            "Requirement already satisfied: python-dateutil>=2.1 in /usr/local/lib/python3.6/dist-packages (from matplotlib->showit) (2.8.1)\n",
            "Requirement already satisfied: kiwisolver>=1.0.1 in /usr/local/lib/python3.6/dist-packages (from matplotlib->showit) (1.1.0)\n",
            "Requirement already satisfied: six in /usr/local/lib/python3.6/dist-packages (from cycler>=0.10->matplotlib->showit) (1.12.0)\n",
            "Requirement already satisfied: setuptools in /usr/local/lib/python3.6/dist-packages (from kiwisolver>=1.0.1->matplotlib->showit) (45.2.0)\n",
            "Building wheels for collected packages: showit\n",
            "  Building wheel for showit (setup.py) ... \u001b[?25l\u001b[?25hdone\n",
            "  Created wheel for showit: filename=showit-1.1.4-cp36-none-any.whl size=3642 sha256=adf35b726245381b1f7fdaa97602cc4c5295b67e10c35d76cbf93fbfd3528a3f\n",
            "  Stored in directory: /root/.cache/pip/wheels/c9/60/f6/132ceb04843c22c202133ae966fc8fc1b7950aac6372e65d30\n",
            "Successfully built showit\n",
            "Installing collected packages: showit\n",
            "Successfully installed showit-1.1.4\n"
          ],
          "name": "stdout"
        }
      ]
    },
    {
      "cell_type": "code",
      "metadata": {
        "id": "YMuq07x-LwR8",
        "colab_type": "code",
        "colab": {}
      },
      "source": [
        "from cnn import CNNTrainer\n",
        "from data import load_synthetic_mnist\n",
        "\n",
        "train_loader, test_loader = load_synthetic_mnist('/content/tlon/trained_models/generator.pth')"
      ],
      "execution_count": 0,
      "outputs": []
    },
    {
      "cell_type": "code",
      "metadata": {
        "id": "qplNRVW_NfwN",
        "colab_type": "code",
        "colab": {
          "base_uri": "https://localhost:8080/",
          "height": 748
        },
        "outputId": "86379888-b1d6-4427-9541-a6e54cbe6290"
      },
      "source": [
        "cnn_trainer = CNNTrainer(train_loader, test_loader, save_path='/content')\n",
        "\n",
        "start = time.time()\n",
        "cnn_trainer.train(log_interval=100)\n",
        "elapsed = time.time()\n",
        "total = elapsed-start\n",
        "print(\"time elapsed: {} seconds\".format(total))"
      ],
      "execution_count": 4,
      "outputs": [
        {
          "output_type": "stream",
          "text": [
            "\n",
            "Test set: Avg. loss: 2.2969, Accuracy: 1009/10000 (10%)\n",
            "\n",
            "Train Epoch: 1 [0/60000 (0%)]\tLoss: 2.306144\n",
            "Train Epoch: 1 [6400/60000 (11%)]\tLoss: 2.176469\n",
            "Train Epoch: 1 [12800/60000 (21%)]\tLoss: 1.533174\n",
            "Train Epoch: 1 [19200/60000 (32%)]\tLoss: 1.061827\n",
            "Train Epoch: 1 [25600/60000 (43%)]\tLoss: 0.677658\n",
            "Train Epoch: 1 [32000/60000 (53%)]\tLoss: 0.611270\n",
            "Train Epoch: 1 [38400/60000 (64%)]\tLoss: 0.700988\n",
            "Train Epoch: 1 [44800/60000 (75%)]\tLoss: 0.909858\n",
            "Train Epoch: 1 [51200/60000 (85%)]\tLoss: 0.407436\n",
            "Train Epoch: 1 [57600/60000 (96%)]\tLoss: 0.363457\n",
            "\n",
            "Test set: Avg. loss: 0.1308, Accuracy: 9598/10000 (96%)\n",
            "\n",
            "Train Epoch: 2 [0/60000 (0%)]\tLoss: 0.411037\n",
            "Train Epoch: 2 [6400/60000 (11%)]\tLoss: 0.412820\n",
            "Train Epoch: 2 [12800/60000 (21%)]\tLoss: 0.219570\n",
            "Train Epoch: 2 [19200/60000 (32%)]\tLoss: 0.267738\n",
            "Train Epoch: 2 [25600/60000 (43%)]\tLoss: 0.335638\n",
            "Train Epoch: 2 [32000/60000 (53%)]\tLoss: 0.218944\n",
            "Train Epoch: 2 [38400/60000 (64%)]\tLoss: 0.250456\n",
            "Train Epoch: 2 [44800/60000 (75%)]\tLoss: 0.319311\n",
            "Train Epoch: 2 [51200/60000 (85%)]\tLoss: 0.232802\n",
            "Train Epoch: 2 [57600/60000 (96%)]\tLoss: 0.258461\n",
            "\n",
            "Test set: Avg. loss: 0.0767, Accuracy: 9758/10000 (98%)\n",
            "\n",
            "Train Epoch: 3 [0/60000 (0%)]\tLoss: 0.191996\n",
            "Train Epoch: 3 [6400/60000 (11%)]\tLoss: 0.105180\n",
            "Train Epoch: 3 [12800/60000 (21%)]\tLoss: 0.262219\n",
            "Train Epoch: 3 [19200/60000 (32%)]\tLoss: 0.202409\n",
            "Train Epoch: 3 [25600/60000 (43%)]\tLoss: 0.231251\n",
            "Train Epoch: 3 [32000/60000 (53%)]\tLoss: 0.158552\n",
            "Train Epoch: 3 [38400/60000 (64%)]\tLoss: 0.132870\n",
            "Train Epoch: 3 [44800/60000 (75%)]\tLoss: 0.224181\n",
            "Train Epoch: 3 [51200/60000 (85%)]\tLoss: 0.091541\n",
            "Train Epoch: 3 [57600/60000 (96%)]\tLoss: 0.102136\n",
            "\n",
            "Test set: Avg. loss: 0.0548, Accuracy: 9824/10000 (98%)\n",
            "\n",
            "time elapsed: 255.30612564086914 seconds\n"
          ],
          "name": "stdout"
        }
      ]
    },
    {
      "cell_type": "code",
      "metadata": {
        "id": "c1lZT3xlPfIB",
        "colab_type": "code",
        "colab": {
          "base_uri": "https://localhost:8080/",
          "height": 335
        },
        "outputId": "4443c08d-a5a9-48cf-9c75-e6d1d4e8cf30"
      },
      "source": [
        "sns.set_context('talk')\n",
        "fig = plt.figure()\n",
        "plt.plot(cnn_trainer.train_counter, cnn_trainer.train_losses, 'k')\n",
        "plt.scatter(cnn_trainer.test_counter, cnn_trainer.test_losses, color='r')\n",
        "plt.legend(['train Loss', 'test Loss'], loc='upper right')\n",
        "plt.xlabel('number of training examples seen')\n",
        "plt.ylabel('negative log likelihood loss')\n",
        "sns.despine(offset=20)"
      ],
      "execution_count": 5,
      "outputs": [
        {
          "output_type": "display_data",
          "data": {
            "image/png": "[encoded data removed]",
            "text/plain": [
              "<Figure size 432x288 with 1 Axes>"
            ]
          },
          "metadata": {
            "tags": []
          }
        }
      ]
    },
    {
      "cell_type": "code",
      "metadata": {
        "id": "SL6encrfaGgd",
        "colab_type": "code",
        "colab": {}
      },
      "source": [
        ""
      ],
      "execution_count": 0,
      "outputs": []
    }
  ]
}